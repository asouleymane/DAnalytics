{
 "cells": [
  {
   "cell_type": "markdown",
   "metadata": {},
   "source": [
    "## Introduction to Database Computing with Big Data\n",
    "\n",
    "NYC taxi dataset is now available on dbase. Feel free to check out https://github.com/toddwschneider/nyc-taxi-data and the linked articles for more information. Taxi data available is as recent as June of this year.\n",
    "\n",
    "### Postgres Database Environment \n",
    "\n",
    "For reference:\n",
    "\n",
    "host: dbase.dsa.missouri.edu\n",
    "\n",
    "user: dsa_ro_user\n",
    "\n",
    "pass: readonly\n",
    "\n",
    "database: nyc-taxi-data"
   ]
  },
  {
   "cell_type": "code",
   "execution_count": 1,
   "metadata": {
    "collapsed": true
   },
   "outputs": [],
   "source": [
    "# Lets explore the taxi data\n",
    "\n",
    "# Connect to the taxi data\n",
    "\n",
    "# Select a count from the taxi database\n",
    "\n",
    "# Show descritive statistics (possibly show number of trips per day, etc.)"
   ]
  },
  {
   "cell_type": "code",
   "execution_count": 2,
   "metadata": {
    "collapsed": false
   },
   "outputs": [
    {
     "name": "stdout",
     "output_type": "stream",
     "text": [
      "[('B000I3INLW', 'Canon PIXMA iP4300 Photo Printer (1438B002)'), ('B0002EPS56', 'Hi-tech Stylist Tool Kit'), ('B0000E2PC8', 'Taylor 7000 EXP Precision Tech Lithium Electronic Scale'), ('B0001E8BEC', 'Libbey 5-Piece Bravura Margarita Set'), ('B0002IKGMW', 'BERETTA SLING TACTICAL CX4 STORM - Model'), ('B000MT94QA', \"Moeller DuraMax Flo n' Go LE Fluid Transfer Pump and 14-Gallon Rolling Gas Can\"), ('B000CSBLYE', 'Rowenta DW2070 1600 Watt Effective Iron'), ('B000TMDYRU', 'Chrome Drafting Stool with Tractor Seat'), ('B0000VLY0Y', 'Norpro 3043 Glass 1 Cup Measure'), ('B000IMYKQ0', 'Wii Nunchuk Controller - White'), ('B0006HTZ80', 'Motorola H500 Bluetooth Headset (Nickel)'), ('B000GX9POS', 'Sterling Silver Rolo Link Chain w/ Lobster Lock w/ 14K Gold Round Charm - 7.5\"'), ('B00008DQJQ', 'Factory Reconditioned Braun 7526 Syncro Smart Logic Shaver'), ('B0000VYJ0G', 'La Crosse Technology TX6U Wireless Temperature Sensor for 433 MHz units only'), ('B000EM79W6', 'La Crosse Technology WS-9004U Wireless Rain Center with Self-Emptying Rain Bucket'), ('B0007QS6KI', 'JVC GRDF430U MiniDV Camcorder w/15x Optical Zoom'), ('B00028I1M4', 'Dryer Vent Vacuum Cleaner Attachment'), ('B000GLKBFM', 'Waterpik TRS-559 Elements 5-Mode Handheld Shower, Brushed Nickel'), ('B000OFC1YY', 'Pantone huey Pro MEU113'), ('B0002HA7FY', 'BELKIN F5D7050 Wireless 802.11g USB Network Adapter')]\n"
     ]
    }
   ],
   "source": [
    "import psycopg2\n",
    "\n",
    "\n",
    "try:\n",
    "    connect_str = \"dbname='reviews' user='dsa_ro_user' host='dbase.dsa.missouri.edu' \" + \\\n",
    "                  \"password='readonly'\"\n",
    "    # use our connection values to establish a connection\n",
    "    conn = psycopg2.connect(connect_str)\n",
    "    cursor = conn.cursor()\n",
    "    # run a SELECT statement - no data in there, but we can try it\n",
    "    cursor.execute(\"\"\"SELECT product_id,title FROM reviews limit 20\"\"\")\n",
    "    rows = cursor.fetchall()\n",
    "    print(rows)\n",
    "except Exception as e:\n",
    "    print(\"Uh oh, can't connect. Invalid dbname, user or password?\")\n",
    "    print(e)"
   ]
  },
  {
   "cell_type": "code",
   "execution_count": null,
   "metadata": {
    "collapsed": true
   },
   "outputs": [],
   "source": []
  }
 ],
 "metadata": {
  "kernelspec": {
   "display_name": "Python 3",
   "language": "python",
   "name": "python3"
  },
  "language_info": {
   "codemirror_mode": {
    "name": "ipython",
    "version": 3
   },
   "file_extension": ".py",
   "mimetype": "text/x-python",
   "name": "python",
   "nbconvert_exporter": "python",
   "pygments_lexer": "ipython3",
   "version": "3.4.3"
  }
 },
 "nbformat": 4,
 "nbformat_minor": 1
}
