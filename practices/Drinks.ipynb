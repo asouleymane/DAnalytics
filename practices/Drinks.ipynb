{
 "cells": [
  {
   "cell_type": "markdown",
   "metadata": {},
   "source": [
    "# Computational : The Nerd's Network Guide to Cocktails\n",
    "\n",
    "Have you ever been indecisive on what drink to order? I am sure you have had and maybe you have even asked your bartender to \"surprise\" you with a creation. What if your bartender was a computer scientist that can really only understand algorithms (i.e., not artistic or creative at all)?  If (s)he was like me that \"sees\" networks everywhere (s)he would go to the CocktailDB, download the recipes through their useful API for several cocktails and take it from there.\n",
    "\n",
    "[The CocktailDB](http://www.thecocktaildb.com)\n",
    "\n",
    "The API can be accessed here: http://www.thecocktaildb.com/API\n",
    "\n",
    "You will see the actual data for all drinks in the database. Here are some questions I'd like you to answer, [using my downloaded copy of the database](../../../datasets/drinks.json).\n",
    "\n",
    "1. What are the most common ingredients in alcoholic drinks?\n",
    "2. What are the most common ingredients in non-alcoholic drinks?\n",
    "3. What 2 ingredients occur together most often? What about in alcoholic versus non-alcoholic?\n",
    "4. What 4 ingredients occur together most often? What about in alcoholic versus non-alcoholic?\n",
    "\n",
    "Conduct your analysis in R or Python. "
   ]
  },
  {
   "cell_type": "code",
   "execution_count": null,
   "metadata": {
    "collapsed": true
   },
   "outputs": [],
   "source": []
  }
 ],
 "metadata": {
  "kernelspec": {
   "display_name": "Python 3",
   "language": "python",
   "name": "python3"
  },
  "language_info": {
   "codemirror_mode": {
    "name": "ipython",
    "version": 3
   },
   "file_extension": ".py",
   "mimetype": "text/x-python",
   "name": "python",
   "nbconvert_exporter": "python",
   "pygments_lexer": "ipython3",
   "version": "3.4.3"
  }
 },
 "nbformat": 4,
 "nbformat_minor": 1
}
