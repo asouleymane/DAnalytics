{
 "cells": [
  {
   "cell_type": "markdown",
   "metadata": {},
   "source": [
    "## Introduction to Database Computing with Big Data\n",
    "\n",
    "NYC taxi dataset is now available on dbase. \n",
    "\n",
    "Feel free to check out https://github.com/toddwschneider/nyc-taxi-data and the linked articles for more information. Taxi data available is as recent as June of 2016.\n",
    "\n",
    "\n",
    "\n",
    "### Postgres Database Environment \n",
    "\n",
    "* For reference:\n",
    " - host: dbase.dsa.missouri.edu\n",
    " - user: dsa_ro_user\n",
    " - pass: readonly\n",
    " - database: nyc-taxi-data"
   ]
  },
  {
   "cell_type": "markdown",
   "metadata": {
    "collapsed": true
   },
   "source": [
    "* Lets explore the taxi data\n",
    " - Connect to the taxi data\n",
    " - List the types of cabs\n",
    " - Select a count from the taxi database\n",
    " - Show descritive statistics (possibly show number of trips per day, etc.)"
   ]
  },
  {
   "cell_type": "code",
   "execution_count": null,
   "metadata": {
    "collapsed": false
   },
   "outputs": [],
   "source": [
    "import psycopg2\n",
    "\n",
    "\n",
    "try:\n",
    "    connect_str = \"dbname='nyc-taxi-data' user='dsa_ro_user' host='dbase.dsa.missouri.edu' \" + \\\n",
    "                  \"password='readonly'\"\n",
    "    # use our connection values to establish a connection\n",
    "    conn = psycopg2.connect(connect_str)\n",
    "    # create a psycopg2 cursor that can execute queries\n",
    "    cursor = conn.cursor()\n",
    "    # run a SELECT statement - no data in there, but we can try it\n",
    "    cursor.execute(\"\"\"SELECT * FROM cab_types\"\"\")\n",
    "    rows = cursor.fetchall()\n",
    "    print(rows)\n",
    "except Exception as e:\n",
    "    print(\"Uh oh, can't connect. Invalid dbname, user or password?\")\n",
    "    print(e)"
   ]
  },
  {
   "cell_type": "code",
   "execution_count": null,
   "metadata": {
    "collapsed": false
   },
   "outputs": [],
   "source": [
    "cursor.execute(\"\"\"select count(*) from fhv_bases;\"\"\")\n",
    "rows = cursor.fetchall()\n",
    "print(rows)"
   ]
  },
  {
   "cell_type": "code",
   "execution_count": null,
   "metadata": {
    "collapsed": true
   },
   "outputs": [],
   "source": [
    "cursor.execute(\"\"\"select * from fhv_bases;\"\"\")\n",
    "rows = cursor.fetchall()\n",
    "print(rows)"
   ]
  }
 ],
 "metadata": {
  "kernelspec": {
   "display_name": "Python 3",
   "language": "python",
   "name": "python3"
  },
  "language_info": {
   "codemirror_mode": {
    "name": "ipython",
    "version": 3
   },
   "file_extension": ".py",
   "mimetype": "text/x-python",
   "name": "python",
   "nbconvert_exporter": "python",
   "pygments_lexer": "ipython3",
   "version": "3.4.3"
  }
 },
 "nbformat": 4,
 "nbformat_minor": 1
}
