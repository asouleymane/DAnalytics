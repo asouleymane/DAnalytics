{
 "cells": [
  {
   "cell_type": "markdown",
   "metadata": {
    "collapsed": false
   },
   "source": [
    "### Accessing Reviews Data in Postgres Database\n",
    "This purpose of this notebook is to show the run time of a query on our postgres database. Once this time is obtained, you can run the Spark Example and compare the run time on the same query between the two methods. \n",
    " \n",
    "Note: It is also possible to run the two simultaneously. However, it is best to complete the Spark notebook in one sitting. Otherwise, the server may glitch.\n",
    "\n",
    "#### Database Structure\n",
    "* reviews\n",
    "\n",
    "|Field |\tType |\tAllow Null |\tDefault Value| \n",
    "|------|-------|-------|------|\n",
    "|product_id |\tvarchar(20) |\tYes\t| x |\n",
    "|price |\tfloat4\t|Yes | x  |\t\n",
    "|user_id |\tvarchar(50) |\tYes\t| x |\n",
    "|profile_name |\tvarchar(100) |\tYes\t | x |\n",
    "|time |\ttimestamp(6) WITH TIME ZONE |\tYes |x |\t\n",
    "|score |\tfloat4 |\tYes |x\t |\n",
    "|title |\ttext |\tYes | x |\t\n",
    "|summary |\ttext |\tYes\t  |  x|\n",
    "|text | \ttext |\tYes\t |x  |\n",
    "|helpfulness_score |\tfloat4 |\tYes  |x  |\t\n",
    "|helpfulness_count |\tfloat4 |\tYes\t |x |\n",
    "|counter_id\t | int4\t| No |\tnextval('reviews_counter_id_seq'::regclass) |\n",
    "\n",
    "\n",
    "**In each fo the cells below, make sure you wait for the [\\*] to turn into a number before hitting the next cell. This code does take a time to come back. **"
   ]
  },
  {
   "cell_type": "code",
   "execution_count": 1,
   "metadata": {
    "collapsed": false
   },
   "outputs": [
    {
     "name": "stdout",
     "output_type": "stream",
     "text": [
      "[(1854362,)]\n",
      "583.4322063922882\n"
     ]
    }
   ],
   "source": [
    "# Importing libraries. We need the time library to use the time.time() function.\n",
    "import psycopg2, time\n",
    "\n",
    "\n",
    "try:\n",
    "    # connecting to the postgres 'reviews' database\n",
    "    connect_str = \"dbname='reviews' user='dsa_ro_user' host='dbase.dsa.missouri.edu' \" + \\\n",
    "                  \"password='readonly'\"\n",
    "    # use our connection values to establish a connection\n",
    "    conn = psycopg2.connect(connect_str)\n",
    "    # create a psycopg2 cursor that can execute queries\n",
    "    cursor = conn.cursor()\n",
    "    # time our query for counting the number of distinct titles in the reviews table \n",
    "    # NOTE: When I ran this, it took about ten minutes, so be sure to have a solid internet connection. :) \n",
    "    start = time.time()\n",
    "    cursor.execute(\"\"\"SELECT COUNT(DISTINCT title) FROM reviews\"\"\")\n",
    "    rows = cursor.fetchall()\n",
    "    end = time.time()\n",
    "    print(rows)\n",
    "    print(end - start)\n",
    "except Exception as e:\n",
    "    print(\"Uh oh, can't connect. Invalid dbname, user or password?\")\n",
    "    print(e)"
   ]
  },
  {
   "cell_type": "markdown",
   "metadata": {
    "collapsed": true
   },
   "source": [
    "### Large Databases Without Spark are Slower\n",
    "You should notice that this query runs in almost twice the length that the Spark query does in the Spark Example notebook. The time.time() function returns the number of seconds since the epoch, which is operating system dependent. Since we are computing a difference between two times, this is an appropriate way to consider runtime."
   ]
  },
  {
   "cell_type": "markdown",
   "metadata": {
    "collapsed": true
   },
   "source": [
    "## Play with the Reviews Database\n",
    " * What is the range of helpfulness scores? \n",
    " * What is the average helpfulness score?\n",
    " * What is the average rating?\n",
    "\n",
    "Do your work below"
   ]
  },
  {
   "cell_type": "code",
   "execution_count": 7,
   "metadata": {
    "collapsed": false
   },
   "outputs": [
    {
     "name": "stdout",
     "output_type": "stream",
     "text": [
      "[(47516.0,)]\n"
     ]
    }
   ],
   "source": [
    "# This is how to get the range of helpfulness scores. Notice that we have to reconnect to the database.\n",
    "import psycopg2\n",
    "\n",
    "try:\n",
    "    connect_str = \"dbname='reviews' user='dsa_ro_user' host='dbase.dsa.missouri.edu' \" + \\\n",
    "                  \"password='readonly'\"\n",
    "    conn = psycopg2.connect(connect_str)\n",
    "    cursor = conn.cursor()\n",
    "    # query to get the range: subtract the min value from the max value\n",
    "    cursor.execute(\"\"\"SELECT max(helpfulness_score) - min(helpfulness_score) FROM reviews\"\"\")\n",
    "    rows = cursor.fetchall()\n",
    "    print(rows)\n",
    "except Exception as e:\n",
    "    print(\"Uh oh, can't connect. Invalid dbname, user or password?\")\n",
    "    print(e)"
   ]
  },
  {
   "cell_type": "code",
   "execution_count": 3,
   "metadata": {
    "collapsed": false
   },
   "outputs": [
    {
     "name": "stdout",
     "output_type": "stream",
     "text": [
      "[(3.72431562109408,)]\n"
     ]
    }
   ],
   "source": [
    "# This is how to get the average helpfulness score.\n",
    "cursor.execute(\"\"\"SELECT avg(helpfulness_score) FROM reviews\"\"\")\n",
    "rows = cursor.fetchall()\n",
    "print(rows)"
   ]
  },
  {
   "cell_type": "code",
   "execution_count": 8,
   "metadata": {
    "collapsed": false
   },
   "outputs": [
    {
     "name": "stdout",
     "output_type": "stream",
     "text": [
      "[(4.17185119113233,)]\n"
     ]
    }
   ],
   "source": [
    "# This is how to get the average \"rating\". (The rating is the score.) \n",
    "# The avg() function makes everything super easy!\n",
    "cursor.execute(\"\"\"SELECT avg(score) FROM reviews\"\"\")\n",
    "rows = cursor.fetchall()\n",
    "print(rows)"
   ]
  },
  {
   "cell_type": "markdown",
   "metadata": {},
   "source": [
    "## Note\n",
    "If you plan on running either or both of the average queries again, you need to run the cell with the connection\n",
    "string first! We need to be connected to the database before we can query it for information, so be sure the do the \n",
    "connection "
   ]
  }
 ],
 "metadata": {
  "kernelspec": {
   "display_name": "Python 3",
   "language": "python",
   "name": "python3"
  },
  "language_info": {
   "codemirror_mode": {
    "name": "ipython",
    "version": 3
   },
   "file_extension": ".py",
   "mimetype": "text/x-python",
   "name": "python",
   "nbconvert_exporter": "python",
   "pygments_lexer": "ipython3",
   "version": "3.4.3"
  }
 },
 "nbformat": 4,
 "nbformat_minor": 1
}
