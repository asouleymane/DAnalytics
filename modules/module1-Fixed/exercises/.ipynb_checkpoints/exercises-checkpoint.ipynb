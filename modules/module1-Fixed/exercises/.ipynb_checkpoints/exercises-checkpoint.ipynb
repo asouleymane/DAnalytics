{
 "cells": [
  {
   "cell_type": "markdown",
   "metadata": {},
   "source": [
    "### Exercise 1\n",
    "* Connect the Spark cluster, and read in the Amazon reviews dataset."
   ]
  },
  {
   "cell_type": "code",
<<<<<<< HEAD
   "execution_count": 1,
=======
   "execution_count": null,
>>>>>>> b829534424e4ec27114264c886546bcd707539f5
   "metadata": {
    "collapsed": false
   },
   "outputs": [
    {
     "name": "stdout",
     "output_type": "stream",
     "text": [
      "Creating SparkContext as 'sc'\n"
     ]
    },
    {
     "data": {
      "text/html": [
       "<table>\n",
<<<<<<< HEAD
       "<tr><th>ID</th><th>YARN Application ID</th><th>Kind</th><th>State</th><th>Spark UI</th><th>Driver log</th><th>Current session?</th></tr><tr><td>108</td><td>None</td><td>pyspark</td><td>idle</td><td></td><td></td><td>✔</td></tr></table>"
=======
       "<tr><th>ID</th><th>YARN Application ID</th><th>Kind</th><th>State</th><th>Spark UI</th><th>Driver log</th><th>Current session?</th></tr><tr><td>131</td><td>None</td><td>pyspark</td><td>idle</td><td></td><td></td><td>✔</td></tr></table>"
>>>>>>> b829534424e4ec27114264c886546bcd707539f5
      ],
      "text/plain": [
       "<IPython.core.display.HTML object>"
      ]
     },
     "metadata": {},
     "output_type": "display_data"
    },
    {
     "name": "stdout",
     "output_type": "stream",
     "text": [
      "Creating HiveContext as 'sqlContext'\n",
      "SparkContext and HiveContext created. Executing user code ...\n"
     ]
    }
   ],
   "source": [
    "from pyspark import SQLContext, SparkContext, SparkConf\n",
    "from pyspark.sql.functions import col\n",
    "sqlContext = SQLContext(sc)\n",
    "df = sqlContext.read.json(\"In/reviews.json\")"
   ]
  },
  {
   "cell_type": "markdown",
   "metadata": {},
   "source": [
    "* Print the schema."
   ]
  },
  {
   "cell_type": "code",
<<<<<<< HEAD
   "execution_count": 2,
   "metadata": {
    "collapsed": false
   },
   "outputs": [
    {
     "name": "stdout",
     "output_type": "stream",
     "text": [
      "root\n",
      " |-- helpfuless_count: long (nullable = true)\n",
      " |-- helpfuless_score: long (nullable = true)\n",
      " |-- price: string (nullable = true)\n",
      " |-- productId: string (nullable = true)\n",
      " |-- profileName: string (nullable = true)\n",
      " |-- score: string (nullable = true)\n",
      " |-- summary: string (nullable = true)\n",
      " |-- text: string (nullable = true)\n",
      " |-- time: string (nullable = true)\n",
      " |-- title: string (nullable = true)\n",
      " |-- userId: string (nullable = true)"
     ]
    }
   ],
=======
   "execution_count": null,
   "metadata": {
    "collapsed": true
   },
   "outputs": [],
>>>>>>> b829534424e4ec27114264c886546bcd707539f5
   "source": [
    "df.printSchema()"
   ]
  },
  {
   "cell_type": "markdown",
   "metadata": {},
   "source": [
    "### Exercise 2\n",
    "* Select a set of distinct titles, and limit the selection to 20."
   ]
  },
  {
   "cell_type": "code",
<<<<<<< HEAD
   "execution_count": 4,
   "metadata": {
    "collapsed": false
   },
   "outputs": [
    {
     "name": "stdout",
     "output_type": "stream",
     "text": [
      "+--------------------+\n",
      "|               title|\n",
      "+--------------------+\n",
      "|          Amazon.com|\n",
      "| Nun Chuck, Novel...|\n",
      "| Nun Chuck, Novel...|\n",
      "| Its Only Art If ...|\n",
      "|                  ah|\n",
      "|                  ah|\n",
      "|        Chrono Cross|\n",
      "|        Chrono Cross|\n",
      "|        Chrono Cross|\n",
      "|        Chrono Cross|\n",
      "|        Chrono Cross|\n",
      "|        Chrono Cross|\n",
      "|        Chrono Cross|\n",
      "|        Chrono Cross|\n",
      "|        Chrono Cross|\n",
      "|        Chrono Cross|\n",
      "|        Chrono Cross|\n",
      "|        Chrono Cross|\n",
      "|        Chrono Cross|\n",
      "|        Chrono Cross|\n",
      "+--------------------+"
     ]
    }
   ],
=======
   "execution_count": null,
   "metadata": {
    "collapsed": true
   },
   "outputs": [],
>>>>>>> b829534424e4ec27114264c886546bcd707539f5
   "source": [
    "df2 = df.select('title').limit(20)\n",
    "df2.show()"
   ]
  },
  {
   "cell_type": "markdown",
   "metadata": {},
   "source": [
    "### Exercise 3\n",
    "* Select the user id, the profile name, helpfulness score, and title of all reviews with a helpfulness score less than three and\n",
    "greater than one. Limit your data set to 15."
   ]
  },
  {
   "cell_type": "code",
<<<<<<< HEAD
   "execution_count": 5,
   "metadata": {
    "collapsed": false
   },
   "outputs": [
    {
     "name": "stdout",
     "output_type": "stream",
     "text": [
      "+---------------+--------------------+--------------------+----------------+\n",
      "|         userId|         profileName|               title|helpfuless_score|\n",
      "+---------------+--------------------+--------------------+----------------+\n",
      "| A3CKAD2MAEM157|             highter|        Chrono Cross|               2|\n",
      "| A3D8T6YHSLYGWY|          C. Robledo|        Chrono Cross|               2|\n",
      "|  A82ERU3622YJI| Corey A. Messer ...|        Chrono Cross|               2|\n",
      "| A2GAQ3FLG7LI8D|              Nimms1|        Chrono Cross|               2|\n",
      "| A1RSXP7MB772E3| Jeff W. Shimkus ...|        Chrono Cross|               2|\n",
      "| A1AR8HYZ17T5H7|            \"arxane\"|        Chrono Cross|               2|\n",
      "| A310GKM5693NRG|               Chris|        Chrono Cross|               2|\n",
      "| A2F6NONFUDB6UK|              Malvin|           Dr. Seuss|               2|\n",
      "| A1YLDZ3VHR6QPZ|               Clara| Whispers of the ...|               2|\n",
      "|  ASEIU33YVKKWW| Barbara Steinbac...| Whispers of the ...|               2|\n",
      "| A1XNI3654I4ME2|          Bronx Girl| Whispers of the ...|               2|\n",
      "| A3VSJF0K4H28XK|     Mary J. Daniels| Whispers of the ...|               2|\n",
      "| A1KAKU5SCNNEZM|                Tori| Whispers of the ...|               2|\n",
      "| A2YVYPAA1JTMJU|                J.B.|       Vagrant Story|               2|\n",
      "|  A9E7XZEMW0K9V|   Dan \"toujoursdan\"|                  Aw|               2|\n",
      "+---------------+--------------------+--------------------+----------------+"
     ]
    }
   ],
=======
   "execution_count": null,
   "metadata": {
    "collapsed": true
   },
   "outputs": [],
>>>>>>> b829534424e4ec27114264c886546bcd707539f5
   "source": [
    "from pyspark.sql.functions import col\n",
    "\n",
    "df2 = df.select('userId','profileName','title','helpfuless_score').where((col('helpfuless_score') < 3) & (col('helpfuless_score') > 1)).limit(15)\n",
    "df2.show()"
   ]
  },
  {
   "cell_type": "markdown",
   "metadata": {},
   "source": [
    "### Exercise 4\n",
    "* Select the title, helpfulness score, and the price information of reviews that have a helpfulness_score less than 5. Order the results by title. Hint: You need two clauses for ordering results. "
   ]
  },
  {
   "cell_type": "code",
<<<<<<< HEAD
   "execution_count": 8,
   "metadata": {
    "collapsed": false
   },
   "outputs": [
    {
     "name": "stdout",
     "output_type": "stream",
     "text": [
      "+-----+--------+----------------+\n",
      "|title|   price|helpfuless_score|\n",
      "+-----+--------+----------------+\n",
      "|     | unknown|               0|\n",
      "|     | unknown|               4|\n",
      "|     | unknown|               0|\n",
      "|     | unknown|               3|\n",
      "|     | unknown|               1|\n",
      "|     | unknown|               1|\n",
      "|     | unknown|               1|\n",
      "|     | unknown|               4|\n",
      "|     | unknown|               0|\n",
      "|     | unknown|               0|\n",
      "|     | unknown|               4|\n",
      "|     | unknown|               1|\n",
      "|     | unknown|               0|\n",
      "|     | unknown|               0|\n",
      "|     | unknown|               0|\n",
      "|     | unknown|               0|\n",
      "|     |  165.90|               0|\n",
      "|     | unknown|               1|\n",
      "|     | unknown|               1|\n",
      "|     | unknown|               1|\n",
      "+-----+--------+----------------+\n",
      "only showing top 20 rows"
     ]
    }
   ],
=======
   "execution_count": null,
   "metadata": {
    "collapsed": true
   },
   "outputs": [],
>>>>>>> b829534424e4ec27114264c886546bcd707539f5
   "source": [
    "df2 = df.select('title','price','helpfuless_score').where(col('helpfuless_score') < 5).orderBy('title').sort('title')\n",
    "df2.show()"
   ]
  },
  {
   "cell_type": "markdown",
   "metadata": {},
   "source": [
    "### Challenge Exercise\n",
    "* What rating levels are most useful? High or low? \n",
    "* Write the queries that you think are most effective for answering this question."
   ]
  },
  {
   "cell_type": "code",
<<<<<<< HEAD
   "execution_count": 12,
   "metadata": {
    "collapsed": false
   },
   "outputs": [
    {
     "name": "stderr",
     "output_type": "stream",
     "text": [
      "An error was encountered:\n",
      "Invalid status code '404' from http://ec2-54-153-99-19.us-west-1.compute.amazonaws.com:8998/sessions/108 with error payload: \"Session '108' not found.\"\n"
     ]
    }
   ],
   "source": [
    "df3=df.groupBy(\"score\").avg(\"helpfuless_score\").show()"
   ]
  },
  {
   "cell_type": "code",
=======
>>>>>>> b829534424e4ec27114264c886546bcd707539f5
   "execution_count": null,
   "metadata": {
    "collapsed": true
   },
   "outputs": [],
   "source": []
  }
 ],
 "metadata": {
  "kernelspec": {
   "display_name": "PySpark",
   "language": "",
   "name": "pysparkkernel"
  },
  "language_info": {
   "codemirror_mode": {
    "name": "python"
   },
   "mimetype": "text/x-python",
   "name": "pyspark",
   "pygments_lexer": "python2"
  }
 },
 "nbformat": 4,
 "nbformat_minor": 1
}
