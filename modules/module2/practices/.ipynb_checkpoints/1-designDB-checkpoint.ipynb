{
 "cells": [
  {
   "cell_type": "markdown",
   "metadata": {},
   "source": [
    "# Design A Database and Analytics Pipeline\n",
    "## 1. Requirements\n",
    "To build a database and analytics pipeline, you need to begin by thinking about some of the issues associated with Scale. For practice, lets think about a few of the databases we've used so far:\n",
    "\n",
    "1. New York City Taxicab Data\n",
    "2. Amazon Review Data\n",
    "3. Movie Ratings Data\n",
    "\n",
    "** Choose a dataset that you wish to work with **"
   ]
  },
  {
   "cell_type": "markdown",
   "metadata": {},
   "source": [
    "### YOUR REQUIREMENTS HERE\n",
    "\n",
    "... "
   ]
  },
  {
   "cell_type": "markdown",
   "metadata": {},
   "source": [
    "## 2. Design\n",
    "What are some questions you might like to ask of this dataset?  Do not constrain yourself with what is possible, instead, think about what you would like to do. "
   ]
  },
  {
   "cell_type": "markdown",
   "metadata": {},
   "source": [
    "### YOUR QUESTIONS HERE \n",
    "\n",
    ".... "
   ]
  },
  {
   "cell_type": "markdown",
   "metadata": {},
   "source": [
    "## 3. What technologies that we have examined in the database an analytics course might be most useful for working with these datasets?\n",
    "\n",
    "Consider, especially, the use of recommendation engines discussed in the labs. "
   ]
  },
  {
   "cell_type": "markdown",
   "metadata": {},
   "source": [
    "### YOUR TECHNOLOGY DISCUSSION HERE\n",
    "\n",
    ".... "
   ]
  },
  {
   "cell_type": "markdown",
   "metadata": {},
   "source": [
    "## 4. Planning \n",
    "\n",
    "What steps will you need to follow to implement your database and analytics pipeline?\n",
    "\n",
    "\n",
    "1. Think about how you will access the data\n",
    "2. Think about what technologies or servers you might need\n",
    "3. What are the tasks that software (Python/R) you write will need to perform on these datasets?\n",
    "    - Look at the labs to think about the transformations and exploration you did. What kind of exploratory analysis do you need to code to answer questions for the Taxi, Review or Movie Datasets?\n",
    "    - What would the dataset you end up with need to be structured like? Are there aggregations?\n",
    "    - What kinds of analysis steps would you perform on the data?\n",
    "    - Look again at the labs for this module. Are there particular analyses that you would perform that make sense for answering your questions? \n",
    "4. Step through \"pseudocode\" for the analysis you would run.\n",
    "    - What fields are necessary?\n",
    "    - What is the granularity of the data?\n",
    "    - What inputs are required for the algorithms you decide to use?\n",
    "    - What outputs do you expect?\n",
    "    - What types of iteration might you need to perform? \n"
   ]
  },
  {
   "cell_type": "markdown",
   "metadata": {
    "collapsed": true
   },
   "source": [
    "## Make your planning notes here. "
   ]
  },
  {
   "cell_type": "code",
   "execution_count": null,
   "metadata": {
    "collapsed": true
   },
   "outputs": [],
   "source": []
  }
 ],
 "metadata": {
  "kernelspec": {
   "display_name": "PySpark",
   "language": "",
   "name": "pysparkkernel"
  },
  "language_info": {
   "codemirror_mode": {
    "name": "python"
   },
   "mimetype": "text/x-python",
   "name": "pyspark",
   "pygments_lexer": "python2"
  }
 },
 "nbformat": 4,
 "nbformat_minor": 1
}
