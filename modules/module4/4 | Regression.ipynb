{
 "cells": [
  {
   "cell_type": "markdown",
   "metadata": {},
   "source": [
    "# Regression\n",
    "\n",
    "In module 3, we had you read some pages on machine learning techniques in Spark. In this module, we are going to focus on how to build a regression model in `PySpark`. In the [CakeSolutions](http://www.cakesolutions.net/teamblogs/spark-mllib-linear-regression-example-and-vocabulary) post that you read last week, the example was written in `Scala`. We can, of course, adapt that to `Python` with our own example. \n",
    "\n",
    "In the post, they try to predict a persons probability to obtain a loan given their age, income and rating. The probability to obtain a loan, in this case, is the target variable, and is a continuous variable that can take on any real value between 0 and 1. The other three variables (age, income and rating) are the predictor variables. Similarly, in our example in the lab, we will use the bike sharing dataset, and our goal will be to predict the number of bike rentals per hour given a set of inputs. These include humidity, temperature, and windspeed. However, some of the inputs are also categorical variables like season or weekday, so there will be some data preprocessing involved before we can begin developing our model.\n",
    "\n",
    "Linear regression is a technique that we have used in both the Intro course and in StatMath. In this module, we will learn how to create two different types of regression models, linear regression and decision tree regression. We will then assess the performance of the two models.\n",
    "\n",
    "## Labs\n",
    "- [Buidling a Regression Model with Spark](./labs/regression.ipynb)\n",
    "\n",
    "\n",
    "## Readings\n",
    "\n",
    "- [Least-Squares Regression](http://www.henry.k12.ga.us/ugh/apstat/chapternotes/sec3.3.html)\n",
    "- [Differences between L1 and L2 as Loss Function and Regularization](http://www.chioka.in/differences-between-l1-and-l2-as-loss-function-and-regularization/)\n",
    "- [Decision Tree Regression](http://chem-eng.utoronto.ca/~datamining/dmc/decision_tree_reg.htm)"
   ]
  }
 ],
 "metadata": {
  "kernelspec": {
   "display_name": "Python 3",
   "language": "python",
   "name": "python3"
  },
  "language_info": {
   "codemirror_mode": {
    "name": "ipython",
    "version": 3
   },
   "file_extension": ".py",
   "mimetype": "text/x-python",
   "name": "python",
   "nbconvert_exporter": "python",
   "pygments_lexer": "ipython3",
   "version": "3.4.5"
  }
 },
 "nbformat": 4,
 "nbformat_minor": 1
}
