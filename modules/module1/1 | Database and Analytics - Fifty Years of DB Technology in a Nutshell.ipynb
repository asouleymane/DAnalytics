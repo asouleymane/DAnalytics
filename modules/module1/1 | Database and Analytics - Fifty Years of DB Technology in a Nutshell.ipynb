{
 "cells": [
  {
   "cell_type": "markdown",
   "metadata": {},
   "source": [
    "https://dm-academy.github.io/aitm/#_chapter_11_enterprise_information_management\n",
    "\n",
    "  1. Fifty Years of Database Technology in a Nutshell\n",
    "    - The Relational model\n",
    "    - Data Warehousing and Decision Support\n",
    "    - Graph Databases\n",
    "    - Distributed Databases\n",
    "      - Resilient Distributed Data Sets\n",
    "      - PySpark"
   ]
  },
  {
   "cell_type": "code",
   "execution_count": null,
   "metadata": {
    "collapsed": true
   },
   "outputs": [],
   "source": []
  }
 ],
 "metadata": {
  "kernelspec": {
   "display_name": "PySpark",
   "language": "",
   "name": "pysparkkernel"
  },
  "language_info": {
   "codemirror_mode": {
    "name": "python"
   },
   "mimetype": "text/x-python",
   "name": "pyspark",
   "pygments_lexer": "python2"
  }
 },
 "nbformat": 4,
 "nbformat_minor": 1
}
