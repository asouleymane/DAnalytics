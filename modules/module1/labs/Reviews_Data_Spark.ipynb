{
 "cells": [
  {
   "cell_type": "markdown",
   "metadata": {
    "collapsed": true
   },
   "source": [
    "### Spark Cluster Performance\n",
    "The purpose of this notebook is to demonstrate the advantages of a Spark cluster query as opposed to a Postgres database query. It is best to complete the entire notebook in one sitting, as opposed to leaving it and coming\n",
    "back later. If you choose to leave it and come back to it later, you most likely experience glitches in the server.\n",
    "It is also important to run each of these top to bottom, and WAIT until one cell is finished before starting the next.\n",
    "\n",
    "#### Database Structure\n",
    "* reviews\n",
    "\n",
    "|Field |\tType |\tAllow Null |\tDefault Value| \n",
    "|------|-------|-------|------|\n",
    "|product_id |\tvarchar(20) |\tYes\t| x |\n",
    "|price |\tfloat4\t|Yes | x  |\t\n",
    "|user_id |\tvarchar(50) |\tYes\t| x |\n",
    "|profile_name |\tvarchar(100) |\tYes\t | x |\n",
    "|time |\ttimestamp(6) WITH TIME ZONE |\tYes |x |\t\n",
    "|score |\tfloat4 |\tYes |x\t |\n",
    "|title |\ttext |\tYes | x |\t\n",
    "|summary |\ttext |\tYes\t  |  x|\n",
    "|text | \ttext |\tYes\t |x  |\n",
    "|helpfulness_score |\tfloat4 |\tYes  |x  |\t\n",
    "|helpfulness_count |\tfloat4 |\tYes\t |x |\n",
    "|counter_id\t | int4\t| No |\tnextval('reviews_counter_id_seq'::regclass) |"
   ]
  },
  {
   "cell_type": "markdown",
   "metadata": {},
   "source": [
    "#### Accessing Spark\n",
    "Creating the SQL context from the spark context, which is the entry point into the relational functionality of our spark cluster.  Importing libraries. We need the time library to use the time.time() function.\n",
    "\n",
    "**In each fo the cells below, make sure you wait for the [\\*] to turn into a number before hitting the next cell. This code does take a time to come back. **"
   ]
  },
  {
   "cell_type": "code",
   "execution_count": 2,
   "metadata": {
    "collapsed": false
   },
   "outputs": [],
   "source": [
    "import time\n",
    "from pyspark import SQLContext, SparkContext, SparkConf\n",
    "sqlContext = SQLContext(sc)\n"
   ]
  },
  {
   "cell_type": "markdown",
   "metadata": {},
   "source": [
    "The code below creates the DataFrame from the SQLContext created above.  The DataFrame is based on the contents of our JSON file. \n",
    "\n",
    "This file contains the content from the **Amazon Product Reviews Dataset**. DataFrames allow us to manipulate and interact with structured data via a domain-specific language. Our domain-specific language is Python. \n",
    "\n",
    "The code below creates the DataFrame from the SQLContext based on the contents of our JSON file. This file contains the content from the reviews database. DataFrames allow us to manipulate and interact with structured data via a domain-specific language. Our domain-specific language is Python. "
   ]
  },
  {
   "cell_type": "code",
   "execution_count": 3,
   "metadata": {
    "collapsed": false
   },
   "outputs": [],
   "source": [
    "## EXCEPT, note that this cell will not come back and often leaves the [*] in the execution notation to the left. \n",
    "df = sqlContext.read.json(\"In/reviews.json\")"
   ]
  },
  {
   "cell_type": "code",
   "execution_count": 4,
   "metadata": {
    "collapsed": false
   },
   "outputs": [
    {
     "name": "stdout",
     "output_type": "stream",
     "text": [
      "root\n",
      " |-- helpfuless_count: long (nullable = true)\n",
      " |-- helpfuless_score: long (nullable = true)\n",
      " |-- price: string (nullable = true)\n",
      " |-- productId: string (nullable = true)\n",
      " |-- profileName: string (nullable = true)\n",
      " |-- score: string (nullable = true)\n",
      " |-- summary: string (nullable = true)\n",
      " |-- text: string (nullable = true)\n",
      " |-- time: string (nullable = true)\n",
      " |-- title: string (nullable = true)\n",
      " |-- userId: string (nullable = true)"
     ]
    }
   ],
   "source": [
    "# This prints the schema. \n",
    "\n",
    "df.printSchema()"
   ]
  },
  {
   "cell_type": "code",
   "execution_count": 5,
   "metadata": {
    "collapsed": false
   },
   "outputs": [
    {
     "name": "stdout",
     "output_type": "stream",
     "text": [
      "+-----+\n",
      "|score|\n",
      "+-----+\n",
      "|  4.0|\n",
      "|  5.0|\n",
      "|  3.0|\n",
      "|  4.0|\n",
      "|  5.0|\n",
      "|  5.0|\n",
      "|  5.0|\n",
      "|  5.0|\n",
      "|  5.0|\n",
      "|  5.0|\n",
      "|  5.0|\n",
      "|  5.0|\n",
      "|  4.0|\n",
      "|  5.0|\n",
      "|  5.0|\n",
      "|  5.0|\n",
      "|  5.0|\n",
      "|  5.0|\n",
      "|  5.0|\n",
      "|  5.0|\n",
      "+-----+\n",
      "only showing top 20 rows"
     ]
    }
   ],
   "source": [
    "# This is a basic query that selects twenty scores (a.k.a. ratings) of different movies and TV shows. The 'twenty'\n",
    "# is a constraint on the system to prevent the accidental retrieval of about thirty-four million rows. \n",
    "# This query does not specify how many to return.\n",
    "\n",
    "df2 = df.select(\"score\").show()"
   ]
  },
  {
   "cell_type": "code",
   "execution_count": 6,
   "metadata": {
    "collapsed": false
   },
   "outputs": [
    {
     "name": "stdout",
     "output_type": "stream",
     "text": [
      "[Row(productId=u' B000179R3I', price=u' unknown'), Row(productId=u' B000GKXY34', price=u' 17.99'), Row(productId=u' B000GKXY34', price=u' 17.99'), Row(productId=u' 1882931173', price=u' unknown'), Row(productId=u' B00002066I', price=u' 15.99')]"
     ]
    }
   ],
   "source": [
    "# You can register a DataFrame as a table for the purpose of running an SQL query on the dataset. \n",
    "\n",
    "sqlContext.registerDataFrameAsTable(df, \"reviews\")\n",
    "df3 = sqlContext.sql(\"SELECT productId, price from reviews limit 5\")\n",
    "df3.collect()"
   ]
  },
  {
   "cell_type": "code",
   "execution_count": 10,
   "metadata": {
    "collapsed": false
   },
   "outputs": [
    {
     "name": "stdout",
     "output_type": "stream",
     "text": [
      "285.009870052"
     ]
    }
   ],
   "source": [
    "# Here we will run a more time-consuming query since our dataset is gigantic. (When I ran this, it took almost \n",
    "# five minutes, and my internet connection is fairly good.)\n",
    "\n",
    "start = time.time()\n",
    "df4 = sqlContext.sql(\"SELECT COUNT(DISTINCT title) FROM reviews\")\n",
    "df4.collect()\n",
    "end = time.time()\n",
    "print(end - start)"
   ]
  },
  {
   "cell_type": "code",
   "execution_count": null,
   "metadata": {
    "collapsed": true
   },
   "outputs": [],
   "source": [
    "# You should see a large difference between this time and the runtime of the postgres query. (Mine was about half\n",
    "# the time of the postgres query.)"
   ]
  },
  {
   "cell_type": "code",
   "execution_count": 11,
   "metadata": {
    "collapsed": false
   },
   "outputs": [
    {
     "name": "stdout",
     "output_type": "stream",
     "text": [
      "+----------------+----------------+--------+-----------+--------------------+-----+--------------------+--------------------+-----------+--------------------+---------------+\n",
      "|helpfuless_count|helpfuless_score|   price|  productId|         profileName|score|             summary|                text|       time|               title|         userId|\n",
      "+----------------+----------------+--------+-----------+--------------------+-----+--------------------+--------------------+-----------+--------------------+---------------+\n",
      "|               0|               0|   17.99| B000GKXY34|          M. Gingras|  5.0|          Great fun!| Got these last C...| 1262304000| Nun Chuck, Novel...|  ADX8VLDUOL7BG|\n",
      "|               4|               3|   15.99| B00002066I|             unknown|  5.0|           Inspiring| I hope a lot of ...|  939772800|                  ah|        unknown|\n",
      "|               0|               0|   15.99| B00002066I|   Stephen McClaning|  5.0|            Great CD| My lovely Pat ha...| 1332288000|                  ah| A2KLYVAS0MIBMQ|\n",
      "|               1|               1| unknown| B000058A81|            A reader|  5.0| First album I've...| We've come a lon...| 1096934400|        Chrono Cross| A18C9SNLZWVBIE|\n",
      "|               1|               1| unknown| B000058A81|  Christopher Walden|  5.0| Pleasant to the ...| Final fantasy fa...| 1088121600|        Chrono Cross| A38QSOKE2DD8JD|\n",
      "|               1|               1| unknown| B000058A81|             IcemanJ|  5.0| Much more than a...| This has got to ...| 1075939200|        Chrono Cross|  AKZLIIH3AP4RU|\n",
      "|               1|               1| unknown| B000058A81|              Shadow|  5.0|            Amazing!| I used to find m...| 1035417600|        Chrono Cross| A1FELZOGR5DEOM|\n",
      "|               1|               1| unknown| B000058A81|       Eric N. Gross|  5.0| If you want RPG ...| I'm not an exper...| 1019779200|        Chrono Cross| A2KACA2XFCGS8S|\n",
      "|               1|               1| unknown| B000058A81|              Sam S.|  5.0| An amazing OST!!...| I played Chrono ...|  999820800|        Chrono Cross|  AR66260V9H91B|\n",
      "|               0|               0| unknown| B000058A81|                 Zar|  5.0|      Crono cross cd| Love the cd's an...| 1342310400|        Chrono Cross| A345GZYTC6CQ6Z|\n",
      "|               0|               0| unknown| B000058A81| John P. Murphy \"...|  5.0| Great music to a...|                Attn| 1320364800|        Chrono Cross| A1QG359N5QLUZK|\n",
      "|               0|               0| unknown| B000058A81|             Tein N.|  5.0| The best soundtr...| I'm reading a lo...| 1209945600|        Chrono Cross| A2J7Q6SC7ZG8I6|\n",
      "|               0|               0| unknown| B000058A81|         Carmen \"Lu\"|  5.0| HURRAY, Chrono C...| When i played th...|  995760000|        Chrono Cross| A10B5XF3C6UFOV|\n",
      "|               0|               0| unknown| B000058A81|       Sakkano Imako|  5.0| Even for a non-p...| Chrono Cross is ...|  986342400|        Chrono Cross|  A8810FHPNEREL|\n",
      "|               1|               0| unknown| B000058A81|             unknown|  5.0| Best Damn CD Eve...| This CD has touc...| 1083196800|        Chrono Cross|        unknown|\n",
      "|               1|               0| unknown| B000058A81|             unknown|  5.0| Nobou can't compare| As a frequent pl...| 1046304000|        Chrono Cross|        unknown|\n",
      "|               2|               2| unknown| B000058A81|          C. Robledo|  5.0|  Amazing Game Music| Yasunori Mitsuda...| 1269993600|        Chrono Cross| A3D8T6YHSLYGWY|\n",
      "|               2|               2| unknown| B000058A81| Corey A. Messer ...|  5.0|           Beautiful| This soundtrack ...| 1157155200|        Chrono Cross|  A82ERU3622YJI|\n",
      "|               2|               2| unknown| B000058A81|              Nimms1|  5.0| Yasunori Mitsuda...| I know many othe...| 1138492800|        Chrono Cross| A2GAQ3FLG7LI8D|\n",
      "|               2|               2| unknown| B000058A81| Jeff W. Shimkus ...|  5.0| A bunch of money...| I enjoyed the ga...| 1105401600|        Chrono Cross| A1RSXP7MB772E3|\n",
      "+----------------+----------------+--------+-----------+--------------------+-----+--------------------+--------------------+-----------+--------------------+---------------+\n",
      "only showing top 20 rows\n",
      "\n",
      "0.195652961731\n",
      "root\n",
      " |-- helpfuless_count: long (nullable = true)\n",
      " |-- helpfuless_score: long (nullable = true)\n",
      " |-- price: string (nullable = true)\n",
      " |-- productId: string (nullable = true)\n",
      " |-- profileName: string (nullable = true)\n",
      " |-- score: string (nullable = true)\n",
      " |-- summary: string (nullable = true)\n",
      " |-- text: string (nullable = true)\n",
      " |-- time: string (nullable = true)\n",
      " |-- title: string (nullable = true)\n",
      " |-- userId: string (nullable = true)"
     ]
    }
   ],
   "source": [
    "## Look at scores great than 4 \n",
    "start = time.time()\n",
    "df4 = df.filter(df.score>4).show()\n",
    "#df4.collect()\n",
    "end = time.time()\n",
    "print(end - start)\n",
    "df.printSchema()"
   ]
  },
  {
   "cell_type": "code",
   "execution_count": 12,
   "metadata": {
    "collapsed": false
   },
   "outputs": [
    {
     "name": "stdout",
     "output_type": "stream",
     "text": [
      "+----------------+----------------+--------+-----------+--------------------+-----+--------------------+--------------------+-----------+--------------------+---------------+\n",
      "|helpfuless_count|helpfuless_score|   price|  productId|         profileName|score|             summary|                text|       time|               title|         userId|\n",
      "+----------------+----------------+--------+-----------+--------------------+-----+--------------------+--------------------+-----------+--------------------+---------------+\n",
      "|              81|              74|   25.97| 0802841899| Christopher J. Bray|  5.0| Ecclesiological ...| With the publica...|  955411200| The Church of Ch...|  ARI272XF8TOL4|\n",
      "|             170|             169| unknown| B0000630MQ|     David Lindamood|  5.0| Great Compact Ch...| I need a fast, c...| 1020124800| Kodak Max K2000 ...| A1IT7KPZW9DY05|\n",
      "|              46|              45| unknown| B0000630MQ|     Fred \"mrdata22\"|  5.0| A simple, reliab...| After reading th...| 1045094400| Kodak Max K2000 ...| A18VT083FG5FLJ|\n",
      "|             140|             137| unknown| B0000630MI|         James Frear|  4.0| One very useful ...| This is one of t...| 1015804800| JVC HR-XVC1U DVD...| A23Z1XWBPYKBJT|\n",
      "|              74|              73| unknown| B0000630MI| Eliza Doll \"Eliz...|  5.0| Perfect for its ...| I purchased this...| 1041724800| JVC HR-XVC1U DVD...| A3UHX0EYOVBGRY|\n",
      "|              55|              55| unknown| B0000630MI|            R. Klein|  4.0| it's a good qual...| Trying to get tw...| 1040774400| JVC HR-XVC1U DVD...| A1AFN3PIC46PAX|\n",
      "|             101|              96| unknown| B0000630MI|            gobirds2|  4.0| Good DVD Average...| Usually anyone p...| 1035849600| JVC HR-XVC1U DVD...|  A7Y6AVS576M03|\n",
      "|              72|              72| unknown| 0789480662|           R. Hadley|  4.0| Colourful Digest...| I bought this bo...| 1090540800| Eyewitness Trave...| A13HDF4J03LQ81|\n",
      "|              69|              51| unknown| B000068VBH|             unknown|  5.0| A fun game for y...| My three year ol...| 1045612800|  Barbie as Rapunzel|        unknown|\n",
      "|              95|              82| unknown| B000068VBH|          \"sheriroh\"|  5.0|       Hours of fun!| I bought this fo...| 1052265600|  Barbie as Rapunzel|  ASQGW7OBXG9N4|\n",
      "|              59|              59| unknown| B0006DWYDW|   LGabe1111@AOL.Com|  5.0| Outstanding guid...| My wife and I bu...|  924912000| Building the tim...|  AWAL894GT5S68|\n",
      "|              82|              77| unknown| B0006D6DRK|                kiwi|  5.0| Not sure about t...| This not a &quot...|  947894400|      Open marriage;| A269TX6BCYYKBC|\n",
      "|              58|              42| unknown| B0006D6DRK| Anthony D Ravens...|  1.0| Outdated & overripe| This book reache...| 1053734400|      Open marriage;| A2K5ESWKI4C4FI|\n",
      "|              93|              90| unknown| B0000630MK| Mark Hills \"Nobo...|  4.0| Great little cam...| I have used many...| 1024963200| Sony CCDTRV108 H...| A11A8GWG0IXBZH|\n",
      "|              59|              57| unknown| B0000630MK| Gadgester \"No Ti...|  3.0| Poor battery lif...| Hi8 is fast fadi...| 1017619200| Sony CCDTRV108 H...|  A5JLAU2ARJ0BO|\n",
      "|              59|              55| unknown| B0000630MK|         melissa dee|  5.0| Best Deal in Son...| I've been waitin...| 1014163200| Sony CCDTRV108 H...|  A1T9IYU0FZZBQ|\n",
      "|              65|              65|   12.95| 0345340949|             unknown|  4.0| Good (albeit inc...| After reading th...|  937872000| The Impatient Ga...|        unknown|\n",
      "|              68|              65|   12.95| 0345340949|             unknown|  5.0| The greenest gra...| I bought this bo...|  959212800| The Impatient Ga...|        unknown|\n",
      "|              58|              48|   12.95| 0345340949|           Dee Dixon|  3.0| It might be easi...| I'm sure my fell...|  940464000| The Impatient Ga...| A26AG1VP3EWTX7|\n",
      "|              50|              49|   13.48| B001O0TMM2|            J. Levie|  4.0| Nice compilation...| This DVD is the ...| 1126569600|    Thomas & Friends| A1VTPHWOO1XNNM|\n",
      "+----------------+----------------+--------+-----------+--------------------+-----+--------------------+--------------------+-----------+--------------------+---------------+\n",
      "only showing top 20 rows"
     ]
    }
   ],
   "source": [
    "#Lets look at helpfulness scores greater than 40\n",
    "from pyspark.sql.functions import col \n",
    "\n",
    "numeric_filtered = df.where(\n",
    "    (col('helpfuless_score')  > 40))\n",
    "numeric_filtered.show()"
   ]
  },
  {
   "cell_type": "code",
   "execution_count": 13,
   "metadata": {
    "collapsed": false
   },
   "outputs": [
    {
     "name": "stdout",
     "output_type": "stream",
     "text": [
      "+----------------+----------------+--------+-----------+--------------------+-----+--------------------+--------------------+-----------+--------------------+---------------+\n",
      "|helpfuless_count|helpfuless_score|   price|  productId|         profileName|score|             summary|                text|       time|               title|         userId|\n",
      "+----------------+----------------+--------+-----------+--------------------+-----+--------------------+--------------------+-----------+--------------------+---------------+\n",
      "|              81|              74|   25.97| 0802841899| Christopher J. Bray|  5.0| Ecclesiological ...| With the publica...|  955411200| The Church of Ch...|  ARI272XF8TOL4|\n",
      "|             170|             169| unknown| B0000630MQ|     David Lindamood|  5.0| Great Compact Ch...| I need a fast, c...| 1020124800| Kodak Max K2000 ...| A1IT7KPZW9DY05|\n",
      "|              46|              45| unknown| B0000630MQ|     Fred \"mrdata22\"|  5.0| A simple, reliab...| After reading th...| 1045094400| Kodak Max K2000 ...| A18VT083FG5FLJ|\n",
      "|             140|             137| unknown| B0000630MI|         James Frear|  4.0| One very useful ...| This is one of t...| 1015804800| JVC HR-XVC1U DVD...| A23Z1XWBPYKBJT|\n",
      "|              74|              73| unknown| B0000630MI| Eliza Doll \"Eliz...|  5.0| Perfect for its ...| I purchased this...| 1041724800| JVC HR-XVC1U DVD...| A3UHX0EYOVBGRY|\n",
      "|              55|              55| unknown| B0000630MI|            R. Klein|  4.0| it's a good qual...| Trying to get tw...| 1040774400| JVC HR-XVC1U DVD...| A1AFN3PIC46PAX|\n",
      "|             101|              96| unknown| B0000630MI|            gobirds2|  4.0| Good DVD Average...| Usually anyone p...| 1035849600| JVC HR-XVC1U DVD...|  A7Y6AVS576M03|\n",
      "|              72|              72| unknown| 0789480662|           R. Hadley|  4.0| Colourful Digest...| I bought this bo...| 1090540800| Eyewitness Trave...| A13HDF4J03LQ81|\n",
      "|              69|              51| unknown| B000068VBH|             unknown|  5.0| A fun game for y...| My three year ol...| 1045612800|  Barbie as Rapunzel|        unknown|\n",
      "|              95|              82| unknown| B000068VBH|          \"sheriroh\"|  5.0|       Hours of fun!| I bought this fo...| 1052265600|  Barbie as Rapunzel|  ASQGW7OBXG9N4|\n",
      "|              59|              59| unknown| B0006DWYDW|   LGabe1111@AOL.Com|  5.0| Outstanding guid...| My wife and I bu...|  924912000| Building the tim...|  AWAL894GT5S68|\n",
      "|              82|              77| unknown| B0006D6DRK|                kiwi|  5.0| Not sure about t...| This not a &quot...|  947894400|      Open marriage;| A269TX6BCYYKBC|\n",
      "|              58|              42| unknown| B0006D6DRK| Anthony D Ravens...|  1.0| Outdated & overripe| This book reache...| 1053734400|      Open marriage;| A2K5ESWKI4C4FI|\n",
      "|              93|              90| unknown| B0000630MK| Mark Hills \"Nobo...|  4.0| Great little cam...| I have used many...| 1024963200| Sony CCDTRV108 H...| A11A8GWG0IXBZH|\n",
      "|              59|              57| unknown| B0000630MK| Gadgester \"No Ti...|  3.0| Poor battery lif...| Hi8 is fast fadi...| 1017619200| Sony CCDTRV108 H...|  A5JLAU2ARJ0BO|\n",
      "|              59|              55| unknown| B0000630MK|         melissa dee|  5.0| Best Deal in Son...| I've been waitin...| 1014163200| Sony CCDTRV108 H...|  A1T9IYU0FZZBQ|\n",
      "|              65|              65|   12.95| 0345340949|             unknown|  4.0| Good (albeit inc...| After reading th...|  937872000| The Impatient Ga...|        unknown|\n",
      "|              68|              65|   12.95| 0345340949|             unknown|  5.0| The greenest gra...| I bought this bo...|  959212800| The Impatient Ga...|        unknown|\n",
      "|              58|              48|   12.95| 0345340949|           Dee Dixon|  3.0| It might be easi...| I'm sure my fell...|  940464000| The Impatient Ga...| A26AG1VP3EWTX7|\n",
      "|              50|              49|   13.48| B001O0TMM2|            J. Levie|  4.0| Nice compilation...| This DVD is the ...| 1126569600|    Thomas & Friends| A1VTPHWOO1XNNM|\n",
      "+----------------+----------------+--------+-----------+--------------------+-----+--------------------+--------------------+-----------+--------------------+---------------+\n",
      "only showing top 20 rows\n",
      "\n",
      "+----------------+----------------+--------+-----------+--------------------+-----+--------------------+--------------------+-----------+--------------------+---------------+\n",
      "|helpfuless_count|helpfuless_score|   price|  productId|         profileName|score|             summary|                text|       time|               title|         userId|\n",
      "+----------------+----------------+--------+-----------+--------------------+-----+--------------------+--------------------+-----------+--------------------+---------------+\n",
      "|               0|               0|   17.99| B000GKXY34|          M. Gingras|  5.0|          Great fun!| Got these last C...| 1262304000| Nun Chuck, Novel...|  ADX8VLDUOL7BG|\n",
      "|               4|               3|   15.99| B00002066I|             unknown|  5.0|           Inspiring| I hope a lot of ...|  939772800|                  ah|        unknown|\n",
      "|               0|               0|   15.99| B00002066I|   Stephen McClaning|  5.0|            Great CD| My lovely Pat ha...| 1332288000|                  ah| A2KLYVAS0MIBMQ|\n",
      "|               1|               1| unknown| B000058A81|            A reader|  5.0| First album I've...| We've come a lon...| 1096934400|        Chrono Cross| A18C9SNLZWVBIE|\n",
      "|               1|               1| unknown| B000058A81|  Christopher Walden|  5.0| Pleasant to the ...| Final fantasy fa...| 1088121600|        Chrono Cross| A38QSOKE2DD8JD|\n",
      "|               1|               1| unknown| B000058A81|             IcemanJ|  5.0| Much more than a...| This has got to ...| 1075939200|        Chrono Cross|  AKZLIIH3AP4RU|\n",
      "|               1|               1| unknown| B000058A81|              Shadow|  5.0|            Amazing!| I used to find m...| 1035417600|        Chrono Cross| A1FELZOGR5DEOM|\n",
      "|               1|               1| unknown| B000058A81|       Eric N. Gross|  5.0| If you want RPG ...| I'm not an exper...| 1019779200|        Chrono Cross| A2KACA2XFCGS8S|\n",
      "|               1|               1| unknown| B000058A81|              Sam S.|  5.0| An amazing OST!!...| I played Chrono ...|  999820800|        Chrono Cross|  AR66260V9H91B|\n",
      "|               0|               0| unknown| B000058A81|                 Zar|  5.0|      Crono cross cd| Love the cd's an...| 1342310400|        Chrono Cross| A345GZYTC6CQ6Z|\n",
      "|               0|               0| unknown| B000058A81| John P. Murphy \"...|  5.0| Great music to a...|                Attn| 1320364800|        Chrono Cross| A1QG359N5QLUZK|\n",
      "|               0|               0| unknown| B000058A81|             Tein N.|  5.0| The best soundtr...| I'm reading a lo...| 1209945600|        Chrono Cross| A2J7Q6SC7ZG8I6|\n",
      "|               0|               0| unknown| B000058A81|         Carmen \"Lu\"|  5.0| HURRAY, Chrono C...| When i played th...|  995760000|        Chrono Cross| A10B5XF3C6UFOV|\n",
      "|               0|               0| unknown| B000058A81|       Sakkano Imako|  5.0| Even for a non-p...| Chrono Cross is ...|  986342400|        Chrono Cross|  A8810FHPNEREL|\n",
      "|               1|               0| unknown| B000058A81|             unknown|  5.0| Best Damn CD Eve...| This CD has touc...| 1083196800|        Chrono Cross|        unknown|\n",
      "|               1|               0| unknown| B000058A81|             unknown|  5.0| Nobou can't compare| As a frequent pl...| 1046304000|        Chrono Cross|        unknown|\n",
      "|               2|               2| unknown| B000058A81|          C. Robledo|  5.0|  Amazing Game Music| Yasunori Mitsuda...| 1269993600|        Chrono Cross| A3D8T6YHSLYGWY|\n",
      "|               2|               2| unknown| B000058A81| Corey A. Messer ...|  5.0|           Beautiful| This soundtrack ...| 1157155200|        Chrono Cross|  A82ERU3622YJI|\n",
      "|               2|               2| unknown| B000058A81|              Nimms1|  5.0| Yasunori Mitsuda...| I know many othe...| 1138492800|        Chrono Cross| A2GAQ3FLG7LI8D|\n",
      "|               2|               2| unknown| B000058A81| Jeff W. Shimkus ...|  5.0| A bunch of money...| I enjoyed the ga...| 1105401600|        Chrono Cross| A1RSXP7MB772E3|\n",
      "+----------------+----------------+--------+-----------+--------------------+-----+--------------------+--------------------+-----------+--------------------+---------------+\n",
      "only showing top 20 rows"
     ]
    }
   ],
   "source": [
    "#Lets look at helpfulness scores greater than 40 and a score greater than 4\n",
    "from pyspark.sql.functions import col \n",
    "\n",
    "numeric_filtered = df.where(\n",
    "    (col('helpfuless_score')  > 40))\n",
    "numeric_filtered.show()\n",
    "\n",
    "numeric_filtered2 = df.where(\n",
    "    (col('score')  > 4))\n",
    "numeric_filtered2.show()\n",
    "\n",
    "# I print both out so that you can see the first group has the helpfulness score greater than 40 and the second group \n",
    "# meets that condition AND has a score greater than 4. "
   ]
  },
  {
   "cell_type": "markdown",
   "metadata": {},
   "source": [
    "## Imagine Your Own Queries of the Amazon Reviews Database\n",
    "What are some queries you might imagine for Amazon product reviews?\n",
    " - Is there a product title you would like to know the average rating for?\n",
    " - What ratings levels are the most useful? High or low?"
   ]
  },
  {
   "cell_type": "code",
   "execution_count": 22,
   "metadata": {
    "collapsed": false
   },
   "outputs": [
    {
     "name": "stderr",
     "output_type": "stream",
     "text": [
      "u\"expression 'title' is neither present in the group by, nor is it an aggregate function. Add to group by or wrap in first() (or first_value) if you don't care which value you get.;\"\n",
      "Traceback (most recent call last):\n",
      "  File \"/usr/lib/spark/python/lib/pyspark.zip/pyspark/sql/context.py\", line 580, in sql\n",
      "    return DataFrame(self._ssql_ctx.sql(sqlQuery), self)\n",
      "  File \"/usr/lib/spark/python/lib/py4j-0.9-src.zip/py4j/java_gateway.py\", line 813, in __call__\n",
      "    answer, self.gateway_client, self.target_id, self.name)\n",
      "  File \"/usr/lib/spark/python/lib/pyspark.zip/pyspark/sql/utils.py\", line 51, in deco\n",
      "    raise AnalysisException(s.split(': ', 1)[1], stackTrace)\n",
      "AnalysisException: u\"expression 'title' is neither present in the group by, nor is it an aggregate function. Add to group by or wrap in first() (or first_value) if you don't care which value you get.;\"\n",
      "\n"
     ]
    }
   ],
   "source": [
    "# This is an example of a query used to find the average rating of reviews containing the product title \"Amazon.com\".\n",
    "df4 = sqlContext.sql(\"select avg(score) from reviews where title like 'Amazon.com'\")\n",
    "df4.collect()\n",
    "\n",
    "# This is an example of how you could determine whether high rating levels are more useful, or low ones. You could \n",
    "# query for the highest 100 ratings, and the lowest 100 ratings and read the reviews. \n",
    "\n",
    "df4 = sqlContext.sql(\"select score,title,summary from reviews group by score order by score desc limit 100\")\n",
    "df4.collect()\n",
    "df5 = sqlContext.sql(\"select score,title,summary from reviews group by score order by score asc limit 100\")\n",
    "df5.collect()"
   ]
  },
  {
   "cell_type": "code",
   "execution_count": null,
   "metadata": {
    "collapsed": true
   },
   "outputs": [],
   "source": []
  }
 ],
 "metadata": {
  "kernelspec": {
   "display_name": "PySpark",
   "language": "",
   "name": "pysparkkernel"
  },
  "language_info": {
   "codemirror_mode": {
    "name": "python"
   },
   "mimetype": "text/x-python",
   "name": "pyspark",
   "pygments_lexer": "python2"
  }
 },
 "nbformat": 4,
 "nbformat_minor": 1
}
