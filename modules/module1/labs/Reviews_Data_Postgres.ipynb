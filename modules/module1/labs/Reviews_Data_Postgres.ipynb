{
 "cells": [
  {
   "cell_type": "markdown",
   "metadata": {
    "collapsed": false
   },
   "source": [
    "### Accessing Reviews Data in Postgres Database\n",
    "This purpose of this notebook is to show the run time of a query on our postgres database. Once this time is obtained, you can run the Spark Example and compare the run time on the same query between the two methods. \n",
    " \n",
    "Note: It is also possible to run the two simultaneously. However, it is best to complete the Spark notebook in one sitting. Otherwise, the server may glitch."
   ]
  },
  {
   "cell_type": "code",
   "execution_count": 1,
   "metadata": {
    "collapsed": false
   },
   "outputs": [
    {
     "name": "stdout",
     "output_type": "stream",
     "text": [
      "[(1854362,)]\n",
      "583.4322063922882\n"
     ]
    }
   ],
   "source": [
    "# Importing libraries. We need the time library to use the time.time() function.\n",
    "import psycopg2, time\n",
    "\n",
    "\n",
    "try:\n",
    "    # connecting to the postgres 'reviews' database\n",
    "    connect_str = \"dbname='reviews' user='dsa_ro_user' host='dbase.dsa.missouri.edu' \" + \\\n",
    "                  \"password='readonly'\"\n",
    "    # use our connection values to establish a connection\n",
    "    conn = psycopg2.connect(connect_str)\n",
    "    # create a psycopg2 cursor that can execute queries\n",
    "    cursor = conn.cursor()\n",
    "    # time our query for counting the number of distinct titles in the reviews table \n",
    "    # NOTE: When I ran this, it took about ten minutes, so be sure to have a solid internet connection. :) \n",
    "    start = time.time()\n",
    "    cursor.execute(\"\"\"SELECT COUNT(DISTINCT title) FROM reviews\"\"\")\n",
    "    rows = cursor.fetchall()\n",
    "    end = time.time()\n",
    "    print(rows)\n",
    "    print(end - start)\n",
    "except Exception as e:\n",
    "    print(\"Uh oh, can't connect. Invalid dbname, user or password?\")\n",
    "    print(e)"
   ]
  },
  {
   "cell_type": "markdown",
   "metadata": {
    "collapsed": true
   },
   "source": [
    "### Large Databases Without Spark are Slower\n",
    "You should notice that this query runs in almost twice the length that the Spark query does in the Spark Example notebook. The time.time() function returns the number of seconds since the epoch, which is operating system dependent. Since we are computing a difference between two times, this is an appropriate way to consider runtime."
   ]
  },
  {
   "cell_type": "code",
   "execution_count": null,
   "metadata": {
    "collapsed": true
   },
   "outputs": [],
   "source": []
  }
 ],
 "metadata": {
  "kernelspec": {
   "display_name": "Python 3",
   "language": "python",
   "name": "python3"
  },
  "language_info": {
   "codemirror_mode": {
    "name": "ipython",
    "version": 3
   },
   "file_extension": ".py",
   "mimetype": "text/x-python",
   "name": "python",
   "nbconvert_exporter": "python",
   "pygments_lexer": "ipython3",
   "version": "3.4.3"
  }
 },
 "nbformat": 4,
 "nbformat_minor": 1
}
