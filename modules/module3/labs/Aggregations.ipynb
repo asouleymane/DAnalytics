{
 "cells": [
  {
   "cell_type": "markdown",
   "metadata": {
    "collapsed": true
   },
   "source": [
    "# Basic Aggregation Functions\n",
    "\n",
    "### In this Module we will be using Postgres to do the activites, but will include how to do it in SQLite if there are any differences in the code.\n",
    "\n",
    "## Types of Aggregate Functions that will be discussed\n",
    "\n",
    "1. COUNT()\n",
    "    1. This function will allow you to count the number of results from a query\n",
    "    1. http://www.tutorialspoint.com/postgresql/postgresql_count_function.htm - This is a good explanation of how COUNT works.\n",
    "1. MIN()\n",
    "    1. This function will return the minimum value of a column in the database\n",
    "    1. http://www.tutorialspoint.com/postgresql/postgresql_min_function.htm - This is a good explination of how MIN works\n",
    "1. MAX()\n",
    "    1. This function will return the maximum value of a column in the database\n",
    "    1. http://www.tutorialspoint.com/postgresql/postgresql_max_function.htm - This is a good explination of how MAX works\n",
    "1. AVG()\n",
    "    1. This Function will return the average value of a column of the database\n",
    "    1. http://www.tutorialspoint.com/postgresql/postgresql_avg_function.htm - This is a good explination of how AVG works\n",
    "1. SUM()\n",
    "    1. This functions will add the values of a  column of a database together and return the sum\n",
    "    1. http://www.tutorialspoint.com/postgresql/postgresql_sum_function.htm - This is a good explination of how SUM works\n",
    "1. Having Clause\n",
    "    1. This will allow the user to limit results based on the column having a value that is <, > , = a aggregate functions results.\n",
    "    1. http://www.w3schools.com/sql/sql_having.asp - The syntax for the Having Clause\n",
    "1. Group By Clause\n",
    "    1. This will allow the user to group together rows of the database based on having one column that is the same throughout the group\n",
    "    1. http://www.w3schools.com/sql/sql_groupby.asp - The syntax for the Group By Clause\n",
    "    \n",
    "## Implementation in queries\n",
    "\n",
    "We will again be using the postgres database to query the data and see how the having clause works. \n",
    "\n",
    "We will again connect to the postgres database to view the data. \n",
    "\n",
    "Connect again by using the command:"
   ]
  },
  {
   "cell_type": "markdown",
   "metadata": {
    "collapsed": true
   },
   "source": [
    "        psql -U dsa_ro_user -h dbase dsa_ro"
   ]
  },
  {
   "cell_type": "markdown",
   "metadata": {},
   "source": [
    "When asked for a password enter: readonly \n",
    "\n",
    "### COUNT\n",
    "\n",
    "The main use for count in a system is to return the number of rows in a database table. \n",
    "\n",
    "To do so you simply use a "
   ]
  },
  {
   "cell_type": "markdown",
   "metadata": {
    "collapsed": true
   },
   "source": [
    "        SELECT COUNT(*) FROM cities;"
   ]
  },
  {
   "cell_type": "markdown",
   "metadata": {},
   "source": [
    "The use of this count is to count all of the rows in cities and return a single number. \n",
    "\n",
    "This is the most simple way that count can be used.\n",
    "\n",
    "If we want to count the number of rows in the cities where country is India.\n",
    "\n",
    "How would we write that?\n",
    "\n",
    "Remeber that the country is a string and will need ''.\n",
    "\n",
    "The number you recieve should be 38\n",
    "\n",
    "### MIN\n",
    "\n",
    "This function will allow you to return the minimum value of a given column in the database table.\n",
    "\n",
    "Let's say we wanted to find the minimum population of all the cities."
   ]
  },
  {
   "cell_type": "markdown",
   "metadata": {
    "collapsed": true
   },
   "source": [
    "        SELECT MIN(population) FROM cities;"
   ]
  },
  {
   "cell_type": "markdown",
   "metadata": {},
   "source": [
    "This will return the minimum of any population in the cities table. \n",
    "\n",
    "Now what is we wanted to seach for the minimum population of cities in Japan.\n",
    "\n",
    "How would we write this?\n",
    "\n",
    "The number you recieve should be 1063100\n",
    "\n",
    "### MAX\n",
    "\n",
    "This function will allow you to return the maximum value of a given column in the database table.\n",
    "\n",
    "Let's say we wanted to find the maximum population of all the cities."
   ]
  },
  {
   "cell_type": "markdown",
   "metadata": {
    "collapsed": true
   },
   "source": [
    "        SELECT MAX(population) FROM cities;"
   ]
  },
  {
   "cell_type": "markdown",
   "metadata": {},
   "source": [
    "This will return the maximum of any population in the cities table.\n",
    "\n",
    "Now what if we wanted to search for the maximum population of cities in Canada. \n",
    "\n",
    "How would we write this?\n",
    "\n",
    "The number you recieve should be 2600000\n",
    "\n",
    "### AVG\n",
    "\n",
    "This function will return the average value of a given colum in the database table. \n",
    "\n",
    "Let's say we wanted to find the average population of all the cities."
   ]
  },
  {
   "cell_type": "markdown",
   "metadata": {
    "collapsed": true
   },
   "source": [
    "        SELECT AVG(population) FROM cities;"
   ]
  },
  {
   "cell_type": "markdown",
   "metadata": {},
   "source": [
    "This will return the average value of all the cities in the cities table. \n",
    "\n",
    "Now what if we wanted to find the average population of cities that are in the United States.\n",
    "\n",
    "How would you write this?\n",
    "\n",
    "The number you recieve should be 2385623.08.\n",
    "\n",
    "### SUM\n",
    "\n",
    "This function will allow you to return the sum of multiple rows in the database table. \n",
    "\n",
    "Let's say we wanted to sum up the total populations of cities in the United States. "
   ]
  },
  {
   "cell_type": "markdown",
   "metadata": {
    "collapsed": true
   },
   "source": [
    "        SELECT SUM(population) FROM cities WHERE country = 'United States';"
   ]
  },
  {
   "cell_type": "markdown",
   "metadata": {},
   "source": [
    "This will allow us to get the total population of people living in the United States within the cities in our database.\n",
    "\n",
    "### HAVING Clause\n",
    "\n",
    "This clause will allow the user to see data that has a certain aggregate funtion value.\n",
    "\n",
    "The HAVING clause can be considered as a where clause that is implemented after the aggregate function is ran.\n",
    "\n",
    "The most common one to be used is the HAVING clause with the COUNT function.\n",
    "\n",
    "We can use this on the cities table to return the name of cities that are used more than once in our data. \n",
    "\n",
    "For example since there are more than 10 cities in the same country in our data we will see it in the results of this query."
   ]
  },
  {
   "cell_type": "markdown",
   "metadata": {
    "collapsed": true
   },
   "source": [
    "        SELECT country, count(country) FROM cities GROUP BY country HAVING count(country) > 10;"
   ]
  },
  {
   "cell_type": "markdown",
   "metadata": {},
   "source": [
    "This simply means that if the country is used more than 10 times (count(country) > 10) than we will list it in the results of this query. \n",
    "\n",
    "### Group By Clause\n",
    "\n",
    "The Group By clause allows us to group all of the cities that are in the same country, into one group that can be used to count on and see how many cities are in each country.\n",
    "\n",
    "Think of the groups as an object \n",
    "\n",
    "You must group by the attribute that you want to count the number of in order to get these to function in the manner that you hope for."
   ]
  }
 ],
 "metadata": {
  "kernelspec": {
   "display_name": "Python 3",
   "language": "python",
   "name": "python3"
  },
  "language_info": {
   "codemirror_mode": {
    "name": "ipython",
    "version": 3
   },
   "file_extension": ".py",
   "mimetype": "text/x-python",
   "name": "python",
   "nbconvert_exporter": "python",
   "pygments_lexer": "ipython3",
   "version": "3.4.5"
  }
 },
 "nbformat": 4,
 "nbformat_minor": 0
}
