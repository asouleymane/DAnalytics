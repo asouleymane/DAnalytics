{
 "cells": [
  {
   "cell_type": "markdown",
   "metadata": {
    "collapsed": true
   },
   "source": [
    "# Advanced Aggregation Functions\n",
    "\n",
    "### In this Module we will be using Postgres to do the activites, but will include how to do it in SQLite if there are any differences in the code.\n",
    "\n",
    "\n",
    "## Connect to postgreSQL\n",
    "\n",
    "We will again connect to the postgres database to view the data.\n",
    "\n",
    "Connect again by using the command:"
   ]
  },
  {
   "cell_type": "markdown",
   "metadata": {},
   "source": [
    "        psql -U dsa_ro_user -h dbase dsa_ro"
   ]
  },
  {
   "cell_type": "markdown",
   "metadata": {},
   "source": [
    "When asked for a password enter: readonly \n",
    "\n",
    "## Nested Queries\n",
    "\n",
    "Run the following two commands to see where the data overlaps:\n",
    "\n",
    "        \\d us_second_order_divisions\n",
    "        \\d util_us_states\n",
    "\n",
    "We know how to qeury the data now to find data when we know what some of the data, but what if I wanted to find the county_name of counties in Missouri.\n",
    "\n",
    "Let's say we don't want to join the tables and we don't know the state_number_code for Missouri\n",
    "\n",
    "The following command will return the names of counties that are located in the state Missouri"
   ]
  },
  {
   "cell_type": "markdown",
   "metadata": {},
   "source": [
    "        SELECT county_name FROM us_second_order_divisions WHERE state_number_code IN (SELECT state_number_code FROM util_us_states WHERE state_name = 'MISSOURI');"
   ]
  },
  {
   "cell_type": "markdown",
   "metadata": {},
   "source": [
    "We see how the IN clause is used to say that we want any counties that have a state_number_code IN the returned data from the subquery. \n",
    "\n",
    "Subqueries allow the ability to search data when you may not have full knowledge of what the specific codes for the data is.\n",
    "\n",
    "In the case above we knew that Missouri would be in the util_us_states table, but we did not know what the state_number_code was this allowed us to use a nested query to solve this.\n",
    "\n",
    "## Standard Deviation function\n",
    "\n",
    "This is another aggregate function that will allow you to take the standard deviation of a given column in your database.\n",
    "\n",
    "Here is a website with a list and syntax for the aggregate functions you can find stddev here - https://www.postgresql.org/docs/current/static/functions-aggregate.html\n",
    "\n",
    "I would recommend taking some time and looking at different aggregate functions on that site that we do not cover in this Bootcamp.\n",
    "\n",
    "We can easily implement the standard deviation function (stddev()) the same way we did with the other examples in the previous lesson.\n",
    "\n",
    "What if we wanted to find the standard deviation of the population for all the cities in our city table?"
   ]
  },
  {
   "cell_type": "markdown",
   "metadata": {},
   "source": [
    "        SELECT stddev(population) FROM cities;"
   ]
  },
  {
   "cell_type": "markdown",
   "metadata": {},
   "source": [
    "This function works the same as the previous examples where you call it and add the column that you wish to calculate on.\n",
    "\n",
    "What if you wanted to find the standard deviation of all the cities that are located in China?\n",
    "\n",
    "Try to solve this the answer you receive should be: 3400132.50\n",
    "\n",
    "## Aggregation Across Joins\n",
    "\n",
    "Now we will combine the knowledge you have of joins and aggregation functions to use them simutaneously.\n",
    "\n",
    "For this lesson we will be using the orders and customers tables. \n",
    "\n",
    "If you need a reminder of what there table looks like feel free to take a second to use:\n",
    "\n",
    "        \\d orders\n",
    "        \\d customers\n",
    "       \n",
    "        SELECT * FROM orders;\n",
    "        SELECT * FROM customers;\n",
    "\n",
    "##### Problem: We want to know the name of each customer who has ordered with us, the number of orders they have made, the max price they have spent, min price they have spent and average price they have spent.\n",
    "\n",
    "### Create the Join\n",
    "\n",
    "We will join these two tables where the customer_id matches on both tables.\n",
    "\n",
    "You have writen this query before here is the query:"
   ]
  },
  {
   "cell_type": "markdown",
   "metadata": {},
   "source": [
    "        SELECT * FROM customers AS c INNER JOIN orders AS o ON c.customer_id = o.customer_id;"
   ]
  },
  {
   "cell_type": "markdown",
   "metadata": {},
   "source": [
    "Now that we have a join that works we need to figure out what we are trying to calculate.\n",
    "\n",
    "### Columns to be returned / calculated\n",
    "\n",
    "The problem asked for five columns to be returned.\n",
    "\n",
    "The first is customer_name that is located in the customers table.\n",
    "\n",
    "        c.customer_name\n",
    "\n",
    "Second we must count the number of orders in the orders table.\n",
    "\n",
    "        count(c.customer_id)\n",
    "        \n",
    "        To make this count work we must also ORDER BY c.customer_id\n",
    "\n",
    "Third find the max order price in the orders table.\n",
    "\n",
    "        o.MAX(order_price)\n",
    "\n",
    "Forth find the min order price in the orders table.\n",
    "\n",
    "        o.MIN(order_price)\n",
    "\n",
    "Fifth find the average order price in the orders table.\n",
    "\n",
    "        o.AVG(order_price)\n",
    "        \n",
    "### Final Product"
   ]
  },
  {
   "cell_type": "markdown",
   "metadata": {},
   "source": [
    "        SELECT c.customer_name, COUNT(c.customer_id) AS number_of_orders, MAX(o.order_price) AS max_order_price, MIN(o.order_price) AS min_order_price, AVG(o.order_price) AS avg_order_price FROM customers AS c INNER JOIN orders AS o ON c.customer_id = o.customer_id GROUP BY c.customer_id;"
   ]
  },
  {
   "cell_type": "markdown",
   "metadata": {},
   "source": [
    "This will return all of the data that we wanted!\n",
    "\n",
    "I also used the AS command to rename certain columns in the output."
   ]
  }
 ],
 "metadata": {
  "kernelspec": {
   "display_name": "Python 3",
   "language": "python",
   "name": "python3"
  },
  "language_info": {
   "codemirror_mode": {
    "name": "ipython",
    "version": 3
   },
   "file_extension": ".py",
   "mimetype": "text/x-python",
   "name": "python",
   "nbconvert_exporter": "python",
   "pygments_lexer": "ipython3",
   "version": "3.4.3"
  }
 },
 "nbformat": 4,
 "nbformat_minor": 0
}
