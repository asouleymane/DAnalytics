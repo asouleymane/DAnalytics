{
 "cells": [
  {
   "cell_type": "markdown",
   "metadata": {
    "collapsed": true
   },
   "source": [
    "# Python and postgreSQL\n",
    "\n",
    "Being that we are connecting to a read-only user you will again only be allowed to run SELECT queries on the database.\n",
    "\n",
    "## Importing psycopg2\n",
    "\n",
    "This import will allow our python code to hadle the use of the psycogpg library. \n",
    "\n",
    "This library will allow us to do all of our interaction with postgreSQL through python.\n"
   ]
  },
  {
   "cell_type": "code",
   "execution_count": null,
   "metadata": {
    "collapsed": true
   },
   "outputs": [],
   "source": [
    "import psycopg2"
   ]
  },
  {
   "cell_type": "markdown",
   "metadata": {},
   "source": [
    "## Connecting to database\n",
    "\n",
    "First we must make our connection to the database using the psycopg2.connect() command\n",
    "\n",
    "You will notice that we feed the command three strings that are related to the login command that you have ran before to connect to the postgres database.\n",
    "\n",
    "For you to remember the command we ran was 'psql -U dsa_ro_user dsa_ro;'\n",
    "\n",
    "You can notice that the database and user name in the psycopg2 command are taken directly from the psql command.\n",
    "\n",
    "And the password is the one that you have entered everytime that you log in to the postgres database.\n"
   ]
  },
  {
   "cell_type": "code",
   "execution_count": null,
   "metadata": {
    "collapsed": false
   },
   "outputs": [],
   "source": [
    "connection = psycopg2.connect(database = 'dsa_ro', \n",
    "                              user = 'dsa_ro_user', \n",
    "                              host = 'dbase',\n",
    "                              password = 'readonly')"
   ]
  },
  {
   "cell_type": "markdown",
   "metadata": {},
   "source": [
    "## Querying database and using transaction\n",
    "\n",
    "This time we will be doing our queries with a transaction block so that the commit command will not be needed at the end.\n",
    "\n",
    "You will notice that our with block has the cursor creation in it.\n",
    "\n",
    "The cursor will be automatically destroyed at the end of this with transaction block.\n",
    "\n",
    "The purpose of the transaction block is that, if the with block fails it will not commit any of that to the database.\n",
    "\n",
    "Everytime the with block is completed it will commit that section of queries to the database.\n",
    "\n",
    "We also need to create the results object inside the with block because as I stated once the with block is completed the cursor is destroyed so if we do not create results we will lose them."
   ]
  },
  {
   "cell_type": "code",
   "execution_count": null,
   "metadata": {
    "collapsed": false
   },
   "outputs": [],
   "source": [
    "with connection, connection.cursor() as cursor:\n",
    "    cursor.execute(\"SELECT * FROM util_us_states\")\n",
    "    results = cursor.fetchall()"
   ]
  },
  {
   "cell_type": "markdown",
   "metadata": {},
   "source": [
    "## Printing result data\n",
    "\n",
    "We are using a simple for each in python here to print the rows of the results out.\n",
    "\n",
    "The command below simply says for each row in results we are going to print out that row."
   ]
  },
  {
   "cell_type": "code",
   "execution_count": null,
   "metadata": {
    "collapsed": false
   },
   "outputs": [],
   "source": [
    "for row in results:\n",
    "    print(row)"
   ]
  },
  {
   "cell_type": "markdown",
   "metadata": {
    "collapsed": true
   },
   "source": [
    "## Closing connection to the database\n",
    "\n",
    "Since the psycopg2 library allows us to use the transaction based queries we do not need to commit our changes at the end.\n",
    "\n",
    "So we simply need to run the [connection_name].close() command to close our connection to the database.\n",
    "\n",
    "Closing your connection when you are done with it is very important and must be remembered.\n"
   ]
  },
  {
   "cell_type": "code",
   "execution_count": null,
   "metadata": {
    "collapsed": true
   },
   "outputs": [],
   "source": [
    "connection.close()"
   ]
  }
 ],
 "metadata": {
  "kernelspec": {
   "display_name": "Python 3",
   "language": "python",
   "name": "python3"
  },
  "language_info": {
   "codemirror_mode": {
    "name": "ipython",
    "version": 3
   },
   "file_extension": ".py",
   "mimetype": "text/x-python",
   "name": "python",
   "nbconvert_exporter": "python",
   "pygments_lexer": "ipython3",
   "version": "3.4.3"
  }
 },
 "nbformat": 4,
 "nbformat_minor": 0
}
