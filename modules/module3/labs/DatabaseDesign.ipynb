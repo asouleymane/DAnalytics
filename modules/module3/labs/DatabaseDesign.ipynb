{
 "cells": [
  {
   "cell_type": "markdown",
   "metadata": {
    "collapsed": true
   },
   "source": [
    "# Database Design\n",
    "\n",
    "Congratulations, you have nearly completed the Database and SQL Boot Camp!\n",
    "\n",
    "The last set of activities will give you the opportunity to tie many of these concepts together.\n",
    "\n",
    "## From Excel to DB to Answers\n",
    "\n",
    "For this assignment you will be taking a MS Excel file __with three tabs__ of data and using that to create a database in SQLite and run queries on that.\n",
    "\n",
    "The file is located under datasets as [Module4Data.xlsx](../datasets/Module4Data.xlsx).\n",
    "\n",
    "### Data \n",
    "The three pages of data are: \n",
    "  1. Artist - contains artist name, genre, and year formed;\n",
    "  1. Albums - contains artist name, album title, year produced\n",
    "  1. Songs - contains album title, song name, song length.\n",
    "\n",
    "You will notice that the last tab, Songs is similar to the unnormalized data discussed in previous examples.\n",
    "\n",
    "\n",
    "### Methodology\n",
    "\n",
    "Please recall the steps of the database design process!\n",
    "\n",
    "  1. Discovery\n",
    "  1. Modelling\n",
    "  1. Defining\n",
    "\n",
    "### Discovery \n",
    "\n",
    "You should now take a moment to go and look at the data.  Identify the entities that are relevant for your database, and what their respective attributes will be.  Then, contemplate the identifiers for those entities, review Canvas lessons if needed.\n",
    "\n",
    "### Modelling\n",
    "Once you have identified all the aspects of the database, try to sketch out a model.  \n",
    "  1. How are the entities connected through relationships?\n",
    "  1. Is there one table per file tab? \n",
    "  1. Are you going to use __id__ columns as done in the previous examples?\n",
    "  1. Which columns of data create overlaps that we can use as foriegn keys to reference other tables?\n",
    "  1. Is your model normalized to remove redundancy?\n",
    "  \n",
    "Your resulting model should be able to hold all the data that you have been given. \n",
    "\n",
    "This portion of the activity is one of the most important so don't be afraid to take a while to design the system.\n",
    "\n",
    "### Defining\n",
    "\n",
    "Once you have your model designed, it is time to write the CREATE TABLE statements into a text file or use the Notebook Cell below. Add any additional DDL you fee is appropriate as well."
   ]
  },
  {
   "cell_type": "raw",
   "metadata": {},
   "source": [
    "-- Write SQL in this Cell, below this line\n",
    "\n",
    "\n",
    "\n",
    "\n",
    "\n"
   ]
  },
  {
   "cell_type": "markdown",
   "metadata": {},
   "source": [
    "Once you have finalized your DDL, you need to create a SQLite database, named __songs.db__  \n",
    "\n",
    "Then is time to load data into the database! Please move on to the next notebook.\n",
    "\n",
    "# PLEASE SAVE YOUR NOTEBOOK"
   ]
  }
 ],
 "metadata": {
  "kernelspec": {
   "display_name": "Python 3",
   "language": "python",
   "name": "python3"
  },
  "language_info": {
   "codemirror_mode": {
    "name": "ipython",
    "version": 3
   },
   "file_extension": ".py",
   "mimetype": "text/x-python",
   "name": "python",
   "nbconvert_exporter": "python",
   "pygments_lexer": "ipython3",
   "version": "3.4.3"
  }
 },
 "nbformat": 4,
 "nbformat_minor": 0
}
