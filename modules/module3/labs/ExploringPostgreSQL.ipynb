{
 "cells": [
  {
   "cell_type": "markdown",
   "metadata": {},
   "source": [
    "# Exploring Postgres\n",
    "\n",
    "First let us connect to the Postgres system\n",
    "\n",
    "To open the terminal follow these steps at: [JupyterHub terminal session](https://wiki.dsa.missouri.edu/jupyterhub-terminal/)\n",
    "\n",
    "Now we have opened a terminal lets look at connecting to the Postgres database\n",
    "\n",
    "To connect to the database insert the following command into your teminal session"
   ]
  },
  {
   "cell_type": "markdown",
   "metadata": {
    "collapsed": true
   },
   "source": [
    "        psql -U dsa_ro_user -h dbase dsa_ro"
   ]
  },
  {
   "cell_type": "markdown",
   "metadata": {},
   "source": [
    "When asked for a password enter: readonly \n",
    "\n",
    "https://www.postgresql.org/docs/9.1/static/app-psql.html - This link is for the psql command syntax\n",
    "\n",
    "## Viewing Tables\n",
    "\n",
    "To view all of the tables in a database we can use the following command:"
   ]
  },
  {
   "cell_type": "markdown",
   "metadata": {
    "collapsed": true
   },
   "source": [
    "        \\dt"
   ]
  },
  {
   "cell_type": "markdown",
   "metadata": {},
   "source": [
    "This will list all of the tables in the database.\n",
    "\n",
    "We can also view the specific table in Postgres using the following command:"
   ]
  },
  {
   "cell_type": "markdown",
   "metadata": {
    "collapsed": true
   },
   "source": [
    "        \\d util_us_states"
   ]
  },
  {
   "cell_type": "markdown",
   "metadata": {},
   "source": [
    "## Viewing Data\n",
    "\n",
    "### This part is very similar to the SQLite part with different examples\n",
    "\n",
    "To view the all the data from the tableName table within out database run the following command."
   ]
  },
  {
   "cell_type": "markdown",
   "metadata": {
    "collapsed": true
   },
   "source": [
    "        SELECT * FROM util_us_states;"
   ]
  },
  {
   "cell_type": "markdown",
   "metadata": {},
   "source": [
    "\n",
    "The table contains both rows and columns. A row is the entire set of data for each individual entry into the table. A column is a specific attribute of a row.\n",
    "\n",
    "https://www.postgresql.org/docs/9.0/static/sql-select.html - This is the link to the SELECT statement syntax for Postgres.\n",
    "\n",
    "### Now Let's Try Viewing Portions of the Data\n",
    "\n",
    "What if we only wanted to view thes state with the state_alpha_code for Missouri.\n",
    "\n",
    "This will require using a condition on the SELECT statement."
   ]
  },
  {
   "cell_type": "markdown",
   "metadata": {
    "collapsed": true
   },
   "source": [
    "        SELECT * FROM util_us_states WHERE state_alpha_code = 'MO';"
   ]
  },
  {
   "cell_type": "markdown",
   "metadata": {},
   "source": [
    "The WHERE condition allows you to limit the returns from the statement based on the condition you added to it.\n",
    "\n",
    "http://www.tutorialspoint.com/postgresql/postgresql_where_clause.htm - This is the link to the WHERE clause syntax for Postgres.\n",
    "\n",
    "Now let's have you try and write a query. \n",
    "\n",
    "What if I wanted the name all the data for Illinois?\n",
    "\n",
    "Now what if we wanted to see the data for the state with the state_number_code that is 35?\n",
    "\n",
    "When you are finished you may run the following command to leave postgres:\n",
    "\n",
    "        \\q"
   ]
  }
 ],
 "metadata": {
  "kernelspec": {
   "display_name": "Python 3",
   "language": "python",
   "name": "python3"
  },
  "language_info": {
   "codemirror_mode": {
    "name": "ipython",
    "version": 3
   },
   "file_extension": ".py",
   "mimetype": "text/x-python",
   "name": "python",
   "nbconvert_exporter": "python",
   "pygments_lexer": "ipython3",
   "version": "3.4.3"
  }
 },
 "nbformat": 4,
 "nbformat_minor": 0
}
