{
 "cells": [
  {
   "cell_type": "code",
   "execution_count": 1,
   "metadata": {
    "collapsed": false
   },
   "outputs": [
    {
     "name": "stderr",
     "output_type": "stream",
     "text": [
      "The code failed because of a fatal error:\n",
      "\tInvalid status code '500' from http://ec2-54-153-99-19.us-west-1.compute.amazonaws.com:8998/sessions with error payload: \"java.io.IOException: Unable to determine spark-submit version [1]:\\nOpenJDK 64-Bit Server VM warning: INFO: os::commit_memory(0x00000000b4cc0000, 724828160, 0) failed; error='Cannot allocate memory' (errno=12)\\n#\\n# There is insufficient memory for the Java Runtime Environment to continue.\\n# Native memory allocation (malloc) failed to allocate 724828160 bytes for committing reserved memory.\\n# An error report file with more information is saved as:\\n# /tmp/jvm-23208/hs_error.log\".\n",
      "\n",
      "Some things to try:\n",
      "a) Make sure Spark has enough available resources for Jupyter to create a Spark context.\n",
      "b) Contact your Jupyter administrator to make sure the Spark magics library is configured correctly.\n",
      "c) Restart the kernel.\n"
     ]
    }
   ],
   "source": [
    "from pyspark import SQLContext, SparkContext, SparkConf\n",
    "from pyspark.sql.functions import col\n",
    "sqlContext = SQLContext(sc)\n",
    "df = sqlContext.read.json(\"In/reviews.json\")"
   ]
  },
  {
   "cell_type": "code",
   "execution_count": null,
   "metadata": {
    "collapsed": true
   },
   "outputs": [],
   "source": [
    "df.show(10)"
   ]
  }
 ],
 "metadata": {
  "kernelspec": {
   "display_name": "PySpark",
   "language": "",
   "name": "pysparkkernel"
  },
  "language_info": {
   "codemirror_mode": {
    "name": "python"
   },
   "mimetype": "text/x-python",
   "name": "pyspark",
   "pygments_lexer": "python2"
  }
 },
 "nbformat": 4,
 "nbformat_minor": 1
}
