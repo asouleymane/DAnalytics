{
 "cells": [
  {
   "cell_type": "markdown",
   "metadata": {},
   "source": [
    "# Module 3:  Machine Learning with Big Data\n",
    "\n",
    "## Topics Covered\n",
    "- Regression, Classification and Clustering with `Spark`\n",
    "- Wokring with SQL\n",
    "\n",
    "    \n",
    "## Readings\n",
    "- [Introduction to Machine Learning with Spark (Clustering)](https://blog.knoldus.com/2015/10/22/introduction-to-machine-learning-with-spark-clustering/)\n",
    "- [Binary Classification](http://web.cs.ucla.edu/~mtgarip/linear.html)\n",
    "- [Spark MLlib linear regression example and vocabulary](http://www.cakesolutions.net/teamblogs/spark-mllib-linear-regression-example-and-vocabulary)\n",
    " \n",
    "## Reference Information\n",
    "- [Spark Clustering Docs](http://spark.apache.org/docs/1.6.3/mllib-clustering.html)\n",
    "- [Spark Classification and Regression Docs](https://spark.apache.org/docs/1.6.3/ml-classification-regression.html)\n",
    "- [Spark Linear Methods Docs](https://spark.apache.org/docs/1.6.3/mllib-linear-methods.html)\n",
    " \n",
    "## Labs\n",
    "\n",
    " - [Feature Extraction with More Context](./labs/1-Feature-Extraction-MoreContext.ipynb) \n",
    " - [Recommendation Engines with More Context](./labs/2-Recommendation-Engines-MoreContext)\n",
    " - [Exploring PostgreSQL](./labs/ExploringPostgreSQL.ipynb)\n",
    " - [PostgreSQL Access](./labs/PostgreSQLAccess.ipynb)\n",
    " - [Python and PostgreSQL](./labs/PythonPostgreSQL.ipynb)\n",
    " - [Aggregations](./labs/Aggregations.ipynb)\n",
    " - [Advanced Aggregations](./labs/AdvancedAggregations.ipynb)\n",
    " - [Database Design](./labs/DatabaseDesign.ipynb)\n",
    " \n",
    "## Practice Examples\n",
    "\n",
    "- [Practicing SQL](./practices/practice_sql)\n",
    " \n",
    "\n"
   ]
  }
 ],
 "metadata": {
  "kernelspec": {
   "display_name": "Python 3",
   "language": "python",
   "name": "python3"
  },
  "language_info": {
   "codemirror_mode": {
    "name": "ipython",
    "version": 3
   },
   "file_extension": ".py",
   "mimetype": "text/x-python",
   "name": "python",
   "nbconvert_exporter": "python",
   "pygments_lexer": "ipython3",
   "version": "3.4.5"
  }
 },
 "nbformat": 4,
 "nbformat_minor": 1
}
