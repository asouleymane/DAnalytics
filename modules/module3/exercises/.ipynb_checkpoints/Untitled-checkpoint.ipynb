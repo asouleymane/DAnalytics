{
 "cells": [
  {
   "cell_type": "code",
   "execution_count": 1,
   "metadata": {
    "collapsed": false
   },
   "outputs": [
    {
     "name": "stdout",
     "output_type": "stream",
     "text": [
      "Creating SparkContext as 'sc'\n"
     ]
    },
    {
     "data": {
      "text/html": [
       "<table>\n",
       "<tr><th>ID</th><th>YARN Application ID</th><th>Kind</th><th>State</th><th>Spark UI</th><th>Driver log</th><th>Current session?</th></tr><tr><td>290</td><td>None</td><td>pyspark</td><td>idle</td><td></td><td></td><td>✔</td></tr></table>"
      ],
      "text/plain": [
       "<IPython.core.display.HTML object>"
      ]
     },
     "metadata": {},
     "output_type": "display_data"
    },
    {
     "name": "stdout",
     "output_type": "stream",
     "text": [
      "Creating HiveContext as 'sqlContext'\n",
      "SparkContext and HiveContext created. Executing user code ...\n"
     ]
    }
   ],
   "source": [
    "from pyspark import SQLContext, SparkContext, SparkConf\n",
    "from pyspark.sql.functions import col\n",
    "sqlContext = SQLContext(sc)\n",
    "df = sqlContext.read.json(\"In/reviews.json\")"
   ]
  },
  {
   "cell_type": "code",
   "execution_count": 5,
   "metadata": {
    "collapsed": false
   },
   "outputs": [
    {
     "name": "stdout",
     "output_type": "stream",
     "text": [
      "+---------------+---------------------+---------------------+\n",
      "|         userId|sum(helpfuless_count)|sum(helpfuless_score)|\n",
      "+---------------+---------------------+---------------------+\n",
      "| A16FTKP8BXKGHG|                    0|                    0|\n",
      "|  A2H06FLSHCGNX|                   12|                   10|\n",
      "| A29Q0CLOF0U8BN|                   38|                   34|\n",
      "| A38N9A0UJVYIRI|                    0|                    0|\n",
      "| A13ZCL7UXEDF14|                  332|                  152|\n",
      "| A1OAFHNE81JHOM|                    0|                    0|\n",
      "| A17UU8GM4NSMEJ|                    0|                    0|\n",
      "| A2GI02PFIHFYPK|                    0|                    0|\n",
      "|  AVRVACFKJ5QMM|                  732|                  622|\n",
      "| A290DASWU6TETY|                  100|                   31|\n",
      "|  ADIB6IP2IWMT4|                  186|                   97|\n",
      "| A2E695LJSYIX98|                    4|                    2|\n",
      "| A1YHAR3SQE33UA|                    0|                    0|\n",
      "| A1E2LXUERE1QDX|                    0|                    0|\n",
      "|  AY4OROA8ZNYH8|                    2|                    2|\n",
      "| A2BMM11E76H9WC|                   63|                   63|\n",
      "| A1VPXCFO261VWH|                  316|                  199|\n",
      "| A2PXFI7VDHQ7BU|                   70|                   65|\n",
      "| A3RV69EPSMI2XI|                   60|                    0|\n",
      "| A1OXF8GW1MUJI5|                    4|                    4|\n",
      "|  A6VXZ1EEPRTLV|                 8439|                 7063|\n",
      "| A2PPDK1D6GC23X|                   33|                   14|\n",
      "| A1L1FFIRGC9G0P|                   58|                   43|\n",
      "|  ATUENKCMW75VI|                    1|                    1|\n",
      "|  ASZ8E4HV7M8N7|                   80|                   74|\n",
      "| A3IRDBTKV4UH7N|                    1|                    1|\n",
      "| A2C33PLUFJJ1CQ|                  459|                  366|\n",
      "|  ALK95K8QTSBV9|                  718|                  501|\n",
      "| A3TFO43AKQ6TWD|                   14|                   14|\n",
      "|  AUWS4WEQ3GS53|                 1407|                 1097|\n",
      "| A3MIT2Z43G3EM1|                   48|                   24|\n",
      "|  AQ1MSLE536D9C|                   67|                   28|\n",
      "| A1BNZ1YYVZOCKH|                    4|                    4|\n",
      "|  ARTK3H30K9F2R|                   13|                   13|\n",
      "| A1HHG9CDRDS8IG|                    1|                    0|\n",
      "| A2OOGPJD6Y141G|                   21|                   18|\n",
      "| A3UA01OT41LPR5|                  755|                  522|\n",
      "| A3AGDLT99ALZV3|                    1|                    1|\n",
      "| A1BIDC18WRKJA2|                   10|                    2|\n",
      "| A3OCVOVASUHNXV|                   10|                    8|\n",
      "| A1PDOJ3CLEVZE1|                    0|                    0|\n",
      "|  AO1S1X6BCLWOR|                   34|                   34|\n",
      "| A1DOSH7X2LE4T2|                    0|                    0|\n",
      "| A1WBIIZ5KF7D6H|                 1811|                  849|\n",
      "|  A2B2RKTH2EUEG|                  110|                   38|\n",
      "|  AXEIVJVU2G33A|                   14|                   12|\n",
      "| A1WQ66ZW0GJUYP|                    8|                    7|\n",
      "| A3MN11T0W4XYOB|                   18|                   16|\n",
      "| A1BMWDOAWTDLL5|                   89|                   50|\n",
      "| A15Q8WM87VF1RZ|                  304|                  253|\n",
      "|  AIOEMSH6KIGKR|                    0|                    0|\n",
      "| A1II2ZRPKZAQQD|                  551|                  513|\n",
      "| A1W7H47T467TDT|                   15|                    3|\n",
      "| A2GHS3CMBU49EQ|                    4|                    4|\n",
      "|  AJQ1S39GZBKUG|                15559|                12878|\n",
      "| A3JFO6PNX9J4BT|                    0|                    0|\n",
      "|  A4IEVL7EAGZZ7|                 2403|                 2163|\n",
      "| A35OEIZJBMY1FC|                    0|                    0|\n",
      "|  A6ZSZRLBMR57Q|                  231|                  175|\n",
      "| A1DK2EF6BI3USP|                   47|                   47|\n",
      "| A2RV7HGZ900976|                    9|                    7|\n",
      "| A1OO1N5IYRRFSU|                    9|                    6|\n",
      "| A2QC3C1P0SVMMA|                   12|                    4|\n",
      "| A1V0X6GRVU5W51|                   17|                    8|\n",
      "| A2UGYJ3CO1EUG1|                   65|                   39|\n",
      "| A1ZJ2BO422QRJD|                    6|                    5|\n",
      "| A3PNHW175KW1YD|                   58|                   55|\n",
      "| A2JHXDGXDSRSWC|                   51|                   28|\n",
      "| A2ZVOU9X5W2S47|                 4915|                 4523|\n",
      "| A2BQ8JDRIMBMTM|                    0|                    0|\n",
      "| A3EIDCQ10YWB0G|                   25|                   23|\n",
      "| A1DU2D50H37UAR|                   50|                   31|\n",
      "| A29FBV2AGNCY5O|                    3|                    3|\n",
      "| A3B640L5OO0W1W|                    7|                    6|\n",
      "| A3W29DDWFFYWY0|                   24|                   15|\n",
      "| A2FWYF0C9VCNY7|                   16|                    1|\n",
      "| A2AYW8P160KZHL|                    8|                    0|\n",
      "|  A43UTS8GBH76F|                    0|                    0|\n",
      "| A1Q4ONZXRT0PMC|                  204|                  174|\n",
      "|  A8A5D3N0ALQ5Y|                    8|                    8|\n",
      "| A2ZE73RFY0GD3K|                11121|                 8144|\n",
      "|  AU7IX4YWK7S98|                    9|                    9|\n",
      "| A2O7SS3CI6ZEHO|                    1|                    0|\n",
      "| A2GBLSX17LNI8T|                   50|                   30|\n",
      "| A3UHZNHPX7GOSK|                    2|                    0|\n",
      "| A35BXVGACC8GFH|                    0|                    0|\n",
      "|  AWNGE2K8LNPRC|                    4|                    2|\n",
      "| A3OQWLHURZODA6|                  111|                   79|\n",
      "| A1QCXPVVT0TOQP|                    0|                    0|\n",
      "| A2F173B4LMOJZ4|                  202|                  182|\n",
      "| A2DBOHVRCP2SNL|                  147|                  103|\n",
      "|  ADS1KGW4SBROL|                    0|                    0|\n",
      "| A1WAWNUDPXI23R|                  677|                   62|\n",
      "| A2X25C107CSLOR|                 6919|                 4436|\n",
      "|  AN9B7520L232U|                    6|                    6|\n",
      "|  AS40IKNJHA8O2|                   49|                   47|\n",
      "|  A5SU1N49N6BLX|                  136|                  105|\n",
      "| A27OBJA1YDQFZI|                 2992|                 2177|\n",
      "| A161CJFCDUQJ7F|                    2|                    1|\n",
      "| A35BRAZTQTDHK4|                    3|                    2|\n",
      "+---------------+---------------------+---------------------+"
     ]
    }
   ],
   "source": [
    "df1 = df.groupBy(df.userId).agg({'helpfuless_count':'sum','helpfuless_score':'sum'}).limit(100)\n",
    "df1.show(100)"
   ]
  },
  {
   "cell_type": "code",
   "execution_count": null,
   "metadata": {
    "collapsed": true
   },
   "outputs": [],
   "source": []
  }
 ],
 "metadata": {
  "kernelspec": {
   "display_name": "PySpark",
   "language": "",
   "name": "pysparkkernel"
  },
  "language_info": {
   "codemirror_mode": {
    "name": "python"
   },
   "mimetype": "text/x-python",
   "name": "pyspark",
   "pygments_lexer": "python2"
  }
 },
 "nbformat": 4,
 "nbformat_minor": 1
}
