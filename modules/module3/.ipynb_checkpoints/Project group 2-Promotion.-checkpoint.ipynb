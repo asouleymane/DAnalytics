{
 "cells": [
  {
   "cell_type": "code",
   "execution_count": 1,
   "metadata": {
    "collapsed": false
   },
   "outputs": [
    {
     "name": "stdout",
     "output_type": "stream",
     "text": [
      "Creating SparkContext as 'sc'\n"
     ]
    },
    {
     "data": {
      "text/html": [
       "<table>\n",
       "<tr><th>ID</th><th>YARN Application ID</th><th>Kind</th><th>State</th><th>Spark UI</th><th>Driver log</th><th>Current session?</th></tr><tr><td>273</td><td>None</td><td>pyspark</td><td>idle</td><td></td><td></td><td>✔</td></tr></table>"
      ],
      "text/plain": [
       "<IPython.core.display.HTML object>"
      ]
     },
     "metadata": {},
     "output_type": "display_data"
    },
    {
     "name": "stdout",
     "output_type": "stream",
     "text": [
      "Creating HiveContext as 'sqlContext'\n",
      "SparkContext and HiveContext created. Executing user code ...\n"
     ]
    }
   ],
   "source": [
    "from pyspark import SQLContext, SparkContext, SparkConf\n",
    "from pyspark.sql.functions import col\n",
    "sqlContext = SQLContext(sc)\n",
    "df = sqlContext.read.json(\"In/reviews.json\")"
   ]
  },
  {
   "cell_type": "code",
   "execution_count": 4,
   "metadata": {
    "collapsed": false,
    "scrolled": true
   },
   "outputs": [
    {
     "name": "stdout",
     "output_type": "stream",
     "text": [
      "+---------------------+---------------------+\n",
      "|avg(helpfuless_count)|avg(helpfuless_score)|\n",
      "+---------------------+---------------------+\n",
      "|    5.451863030198545|   3.7175363113948054|\n",
      "+---------------------+---------------------+"
     ]
    }
   ],
   "source": [
    "# I will start by looking at my average helpfuless_count and helpfuless_score to have an idea of what\n",
    "#the numbers look.\n",
    "\n",
    "df1 = df.agg({'helpfuless_count':'avg','helpfuless_score':'avg'}).limit(50)\n",
    "df1.show()"
   ]
  },
  {
   "cell_type": "code",
   "execution_count": 6,
   "metadata": {
    "collapsed": false
   },
   "outputs": [
    {
     "name": "stdout",
     "output_type": "stream",
     "text": [
      "+---------------+----------------+----------------+\n",
      "|         userId|helpfuless_score|helpfuless_count|\n",
      "+---------------+----------------+----------------+\n",
      "|        unknown|               7|              82|\n",
      "| A1APIR6FTZ97T5|               9|              62|\n",
      "| A2W9NRDLQS4M09|              15|              51|\n",
      "|  AHEFZYKKOW7UG|              31|              63|\n",
      "| A2Q6UA84DBSVSK|              40|              76|\n",
      "| A2K5ESWKI4C4FI|              42|              58|\n",
      "| A26AG1VP3EWTX7|              48|              58|\n",
      "| A1V9U7U6D98PYY|              51|              53|\n",
      "|        unknown|              51|              69|\n",
      "| A1AFN3PIC46PAX|              55|              55|\n",
      "|  A1T9IYU0FZZBQ|              55|              59|\n",
      "|  A5JLAU2ARJ0BO|              57|              59|\n",
      "|  AWAL894GT5S68|              59|              59|\n",
      "| A13WS8O77FRTHX|              63|              63|\n",
      "|        unknown|              65|              65|\n",
      "|        unknown|              65|              68|\n",
      "| A3T8EIIHJAULFF|              72|              76|\n",
      "| A13HDF4J03LQ81|              72|              72|\n",
      "| A3UHX0EYOVBGRY|              73|              74|\n",
      "|  ARI272XF8TOL4|              74|              81|\n",
      "+---------------+----------------+----------------+\n",
      "only showing top 20 rows"
     ]
    }
   ],
   "source": [
    "#I need to know more on the users with above average helpfuless_score and those with above average\n",
    "#helpfuless_count.Note that here I choose > 50 in my code because I realized that the presence of outliers \n",
    "#in my helpfuless_count(numbers way above the 5.45 helpfuless_count)\n",
    "df2 = df.select('userId','helpfuless_score','helpfuless_count').where((col('helpfuless_score')>4) & (col('helpfuless_count')>50)).limit(30).sort('helpfuless_score')\n",
    "df2.show()"
   ]
  },
  {
   "cell_type": "code",
   "execution_count": null,
   "metadata": {
    "collapsed": true
   },
   "outputs": [],
   "source": [
    "# Now can I based my promotion on the users above after making sure that I chose those with either high\n",
    "#helpfuless score or helpfuless count.But I believe those with both higher helpfuless score and \n",
    "#helpfuless count shoud be my promoters.Am I not basing my promotion on users that might have different\n",
    "#reviewed different books and received different helpfuless count and helpfuless scores.Wouldn't it be\n",
    "#better if I group the user by their ID and aggregate their count and their score based on their average\n",
    "# The list of my promoters will be choosen from the output of the code below.I could have sort it but I \n",
    "#believe PySpark would not accept any sorting on the avg(helpfuless_count) and avg(helpfuless_score) \n",
    "# columns."
   ]
  },
  {
   "cell_type": "code",
   "execution_count": 11,
   "metadata": {
    "collapsed": false
   },
   "outputs": [
    {
     "name": "stdout",
     "output_type": "stream",
     "text": [
      "+---------------+---------------------+---------------------+\n",
      "|         userId|avg(helpfuless_count)|avg(helpfuless_score)|\n",
      "+---------------+---------------------+---------------------+\n",
      "| A16FTKP8BXKGHG|                  0.0|                  0.0|\n",
      "|  A2H06FLSHCGNX|                  6.0|                  5.0|\n",
      "| A29Q0CLOF0U8BN|                  7.6|                  6.8|\n",
      "| A38N9A0UJVYIRI|                  0.0|                  0.0|\n",
      "| A13ZCL7UXEDF14|   1.4690265486725664|    0.672566371681416|\n",
      "| A1OAFHNE81JHOM|                  0.0|                  0.0|\n",
      "| A17UU8GM4NSMEJ|                  0.0|                  0.0|\n",
      "| A2GI02PFIHFYPK|                  0.0|                  0.0|\n",
      "|  AVRVACFKJ5QMM|    6.477876106194691|    5.504424778761062|\n",
      "| A290DASWU6TETY|                 12.5|                3.875|\n",
      "|  ADIB6IP2IWMT4|    5.027027027027027|   2.6216216216216215|\n",
      "| A2E695LJSYIX98|                  1.0|                  0.5|\n",
      "| A1YHAR3SQE33UA|                  0.0|                  0.0|\n",
      "| A1E2LXUERE1QDX|                  0.0|                  0.0|\n",
      "|  AY4OROA8ZNYH8|                  2.0|                  2.0|\n",
      "| A2BMM11E76H9WC|   1.0677966101694916|   1.0677966101694916|\n",
      "| A1VPXCFO261VWH|   0.9002849002849003|   0.5669515669515669|\n",
      "| A2PXFI7VDHQ7BU|   1.1475409836065573|   1.0655737704918034|\n",
      "| A3RV69EPSMI2XI|                  1.0|                  0.0|\n",
      "| A1OXF8GW1MUJI5|  0.06666666666666667|  0.06666666666666667|\n",
      "|  A6VXZ1EEPRTLV|   3.0821767713659605|    2.579620160701242|\n",
      "| A2PPDK1D6GC23X|                  6.6|                  2.8|\n",
      "| A1L1FFIRGC9G0P|                 11.6|                  8.6|\n",
      "|  ATUENKCMW75VI|                  1.0|                  1.0|\n",
      "|  ASZ8E4HV7M8N7|   4.2105263157894735|   3.8947368421052633|\n",
      "| A3IRDBTKV4UH7N|                  1.0|                  1.0|\n",
      "| A2C33PLUFJJ1CQ|    4.683673469387755|   3.7346938775510203|\n",
      "|  ALK95K8QTSBV9|    9.573333333333334|                 6.68|\n",
      "| A3TFO43AKQ6TWD|                  3.5|                  3.5|\n",
      "|  AUWS4WEQ3GS53|    4.090116279069767|    3.188953488372093|\n",
      "| A3MIT2Z43G3EM1|                  6.0|                  3.0|\n",
      "|  AQ1MSLE536D9C|    3.526315789473684|   1.4736842105263157|\n",
      "| A1BNZ1YYVZOCKH|  0.21052631578947367|  0.21052631578947367|\n",
      "|  ARTK3H30K9F2R|                 13.0|                 13.0|\n",
      "| A1HHG9CDRDS8IG|   0.3333333333333333|                  0.0|\n",
      "| A2OOGPJD6Y141G|                  1.4|                  1.2|\n",
      "| A3UA01OT41LPR5|   13.981481481481481|    9.666666666666666|\n",
      "| A3AGDLT99ALZV3|                  1.0|                  1.0|\n",
      "| A1BIDC18WRKJA2|   0.3448275862068966|  0.06896551724137931|\n",
      "| A3OCVOVASUHNXV|                  5.0|                  4.0|\n",
      "| A1PDOJ3CLEVZE1|                  0.0|                  0.0|\n",
      "|  AO1S1X6BCLWOR|    5.666666666666667|    5.666666666666667|\n",
      "| A1DOSH7X2LE4T2|                  0.0|                  0.0|\n",
      "| A1WBIIZ5KF7D6H|   11.462025316455696|   5.3734177215189876|\n",
      "|  A2B2RKTH2EUEG|    7.333333333333333|    2.533333333333333|\n",
      "|  AXEIVJVU2G33A|                  3.5|                  3.0|\n",
      "| A1WQ66ZW0GJUYP|                  2.0|                 1.75|\n",
      "| A3MN11T0W4XYOB|                  9.0|                  8.0|\n",
      "| A1BMWDOAWTDLL5|                 17.8|                 10.0|\n",
      "| A15Q8WM87VF1RZ|    4.470588235294118|   3.7205882352941178|\n",
      "|  AIOEMSH6KIGKR|                  0.0|                  0.0|\n",
      "| A1II2ZRPKZAQQD|    3.203488372093023|   2.9825581395348837|\n",
      "| A1W7H47T467TDT|                  5.0|                  1.0|\n",
      "| A2GHS3CMBU49EQ|                  2.0|                  2.0|\n",
      "|  AJQ1S39GZBKUG|    6.213658146964856|     5.14297124600639|\n",
      "| A3JFO6PNX9J4BT|                  0.0|                  0.0|\n",
      "|  A4IEVL7EAGZZ7|   17.669117647058822|   15.904411764705882|\n",
      "| A35OEIZJBMY1FC|                  0.0|                  0.0|\n",
      "|  A6ZSZRLBMR57Q|    4.714285714285714|   3.5714285714285716|\n",
      "| A1DK2EF6BI3USP|                  1.0|                  1.0|\n",
      "| A2RV7HGZ900976|                  1.8|                  1.4|\n",
      "| A1OO1N5IYRRFSU|                 2.25|                  1.5|\n",
      "| A2QC3C1P0SVMMA|                  1.0|   0.3333333333333333|\n",
      "| A1V0X6GRVU5W51|                 4.25|                  2.0|\n",
      "| A2UGYJ3CO1EUG1|                  6.5|                  3.9|\n",
      "| A1ZJ2BO422QRJD|                  1.0|   0.8333333333333334|\n",
      "| A3PNHW175KW1YD|    8.285714285714286|    7.857142857142857|\n",
      "| A2JHXDGXDSRSWC|    3.642857142857143|                  2.0|\n",
      "| A2ZVOU9X5W2S47|   18.831417624521073|    17.32950191570881|\n",
      "| A2BQ8JDRIMBMTM|                  0.0|                  0.0|\n",
      "| A3EIDCQ10YWB0G|                 12.5|                 11.5|\n",
      "| A1DU2D50H37UAR|                  1.0|                 0.62|\n",
      "| A29FBV2AGNCY5O|  0.06818181818181818|  0.06818181818181818|\n",
      "| A3B640L5OO0W1W|   2.3333333333333335|                  2.0|\n",
      "| A3W29DDWFFYWY0|   2.1818181818181817|   1.3636363636363635|\n",
      "| A2FWYF0C9VCNY7|   2.2857142857142856|  0.14285714285714285|\n",
      "| A2AYW8P160KZHL|                 0.32|                  0.0|\n",
      "|  A43UTS8GBH76F|                  0.0|                  0.0|\n",
      "| A1Q4ONZXRT0PMC|                 68.0|                 58.0|\n",
      "|  A8A5D3N0ALQ5Y|   0.8888888888888888|   0.8888888888888888|\n",
      "| A2ZE73RFY0GD3K|    8.770504731861198|    6.422712933753943|\n",
      "|  AU7IX4YWK7S98|                  1.0|                  1.0|\n",
      "| A2O7SS3CI6ZEHO|                 0.25|                  0.0|\n",
      "| A2GBLSX17LNI8T|   2.7777777777777777|   1.6666666666666667|\n",
      "| A3UHZNHPX7GOSK|                  0.5|                  0.0|\n",
      "| A35BXVGACC8GFH|                  0.0|                  0.0|\n",
      "|  AWNGE2K8LNPRC|                  4.0|                  2.0|\n",
      "| A3OQWLHURZODA6|    2.707317073170732|   1.9268292682926829|\n",
      "| A1QCXPVVT0TOQP|                  0.0|                  0.0|\n",
      "| A2F173B4LMOJZ4|   2.4634146341463414|   2.2195121951219514|\n",
      "| A2DBOHVRCP2SNL|    6.391304347826087|    4.478260869565218|\n",
      "|  ADS1KGW4SBROL|                  0.0|                  0.0|\n",
      "| A1WAWNUDPXI23R|    32.23809523809524|   2.9523809523809526|\n",
      "| A2X25C107CSLOR|   10.547256097560975|    6.762195121951219|\n",
      "|  AN9B7520L232U|                  3.0|                  3.0|\n",
      "|  AS40IKNJHA8O2|                6.125|                5.875|\n",
      "|  A5SU1N49N6BLX|   2.4727272727272727|   1.9090909090909092|\n",
      "| A27OBJA1YDQFZI|    6.106122448979592|    4.442857142857143|\n",
      "| A161CJFCDUQJ7F|                  2.0|                  1.0|\n",
      "| A35BRAZTQTDHK4|                  1.5|                  1.0|\n",
      "+---------------+---------------------+---------------------+"
     ]
    }
   ],
   "source": [
    "\n",
    "df3 = df.groupBy(df.userId).agg({'helpfuless_count':'avg','helpfuless_score':'avg'}).limit(100)\n",
    "df3.show(100)"
   ]
  },
  {
   "cell_type": "code",
   "execution_count": null,
   "metadata": {
    "collapsed": true
   },
   "outputs": [],
   "source": []
  }
 ],
 "metadata": {
  "kernelspec": {
   "display_name": "PySpark",
   "language": "",
   "name": "pysparkkernel"
  },
  "language_info": {
   "codemirror_mode": {
    "name": "python"
   },
   "mimetype": "text/x-python",
   "name": "pyspark",
   "pygments_lexer": "python2"
  }
 },
 "nbformat": 4,
 "nbformat_minor": 1
}
